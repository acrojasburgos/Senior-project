{
 "cells": [
  {
   "cell_type": "code",
   "execution_count": 1,
   "id": "032f8fa7",
   "metadata": {
    "_cell_guid": "b1076dfc-b9ad-4769-8c92-a6c4dae69d19",
    "_uuid": "8f2839f25d086af736a60e9eeb907d3b93b6e0e5",
    "execution": {
     "iopub.execute_input": "2024-01-28T15:57:09.531106Z",
     "iopub.status.busy": "2024-01-28T15:57:09.530331Z",
     "iopub.status.idle": "2024-01-28T15:57:09.977848Z",
     "shell.execute_reply": "2024-01-28T15:57:09.976388Z"
    },
    "papermill": {
     "duration": 0.471273,
     "end_time": "2024-01-28T15:57:09.980489",
     "exception": false,
     "start_time": "2024-01-28T15:57:09.509216",
     "status": "completed"
    },
    "tags": []
   },
   "outputs": [
    {
     "name": "stdout",
     "output_type": "stream",
     "text": [
      "/kaggle/input/vehicle-dataset-from-cardekho/car data.csv\n",
      "/kaggle/input/vehicle-dataset-from-cardekho/car details v4.csv\n",
      "/kaggle/input/vehicle-dataset-from-cardekho/CAR DETAILS FROM CAR DEKHO.csv\n",
      "/kaggle/input/vehicle-dataset-from-cardekho/Car details v3.csv\n"
     ]
    }
   ],
   "source": [
    "# This Python 3 environment comes with many helpful analytics libraries installed\n",
    "# It is defined by the kaggle/python Docker image: https://github.com/kaggle/docker-python\n",
    "# For example, here's several helpful packages to load\n",
    "\n",
    "import numpy as np # linear algebra\n",
    "import pandas as pd # data processing, CSV file I/O (e.g. pd.read_csv)\n",
    "\n",
    "# Input data files are available in the read-only \"../input/\" directory\n",
    "# For example, running this (by clicking run or pressing Shift+Enter) will list all files under the input directory\n",
    "\n",
    "import os\n",
    "for dirname, _, filenames in os.walk('/kaggle/input'):\n",
    "    for filename in filenames:\n",
    "        print(os.path.join(dirname, filename))\n",
    "\n",
    "# You can write up to 20GB to the current directory (/kaggle/working/) that gets preserved as output when you create a version using \"Save & Run All\" \n",
    "# You can also write temporary files to /kaggle/temp/, but they won't be saved outside of the current session"
   ]
  },
  {
   "cell_type": "markdown",
   "id": "a033641d",
   "metadata": {
    "papermill": {
     "duration": 0.017943,
     "end_time": "2024-01-28T15:57:10.017027",
     "exception": false,
     "start_time": "2024-01-28T15:57:09.999084",
     "status": "completed"
    },
    "tags": []
   },
   "source": [
    "# **Car Price Prediction**"
   ]
  },
  {
   "cell_type": "markdown",
   "id": "5178ba47",
   "metadata": {
    "papermill": {
     "duration": 0.01776,
     "end_time": "2024-01-28T15:57:10.053064",
     "exception": false,
     "start_time": "2024-01-28T15:57:10.035304",
     "status": "completed"
    },
    "tags": []
   },
   "source": [
    "### **Importing Libraries**"
   ]
  },
  {
   "cell_type": "code",
   "execution_count": 2,
   "id": "84744554",
   "metadata": {
    "execution": {
     "iopub.execute_input": "2024-01-28T15:57:10.093007Z",
     "iopub.status.busy": "2024-01-28T15:57:10.092041Z",
     "iopub.status.idle": "2024-01-28T15:57:11.570405Z",
     "shell.execute_reply": "2024-01-28T15:57:11.569085Z"
    },
    "papermill": {
     "duration": 1.502234,
     "end_time": "2024-01-28T15:57:11.573457",
     "exception": false,
     "start_time": "2024-01-28T15:57:10.071223",
     "status": "completed"
    },
    "tags": []
   },
   "outputs": [],
   "source": [
    "import pandas as pd \n",
    "import numpy as np \n",
    "import seaborn as sns \n",
    "import matplotlib.pyplot as plt\n",
    "%matplotlib inline"
   ]
  },
  {
   "cell_type": "markdown",
   "id": "aa19bcd9",
   "metadata": {
    "papermill": {
     "duration": 0.018131,
     "end_time": "2024-01-28T15:57:11.609803",
     "exception": false,
     "start_time": "2024-01-28T15:57:11.591672",
     "status": "completed"
    },
    "tags": []
   },
   "source": [
    "### **Importing dataset** "
   ]
  },
  {
   "cell_type": "code",
   "execution_count": 3,
   "id": "a70cb8a4",
   "metadata": {
    "execution": {
     "iopub.execute_input": "2024-01-28T15:57:11.648026Z",
     "iopub.status.busy": "2024-01-28T15:57:11.647603Z",
     "iopub.status.idle": "2024-01-28T15:57:11.667379Z",
     "shell.execute_reply": "2024-01-28T15:57:11.666162Z"
    },
    "papermill": {
     "duration": 0.042194,
     "end_time": "2024-01-28T15:57:11.670060",
     "exception": false,
     "start_time": "2024-01-28T15:57:11.627866",
     "status": "completed"
    },
    "tags": []
   },
   "outputs": [],
   "source": [
    "df = pd.read_csv(\"/kaggle/input/vehicle-dataset-from-cardekho/car data.csv\")"
   ]
  },
  {
   "cell_type": "code",
   "execution_count": 4,
   "id": "08d05173",
   "metadata": {
    "execution": {
     "iopub.execute_input": "2024-01-28T15:57:11.708688Z",
     "iopub.status.busy": "2024-01-28T15:57:11.708260Z",
     "iopub.status.idle": "2024-01-28T15:57:11.738478Z",
     "shell.execute_reply": "2024-01-28T15:57:11.737354Z"
    },
    "papermill": {
     "duration": 0.052416,
     "end_time": "2024-01-28T15:57:11.740887",
     "exception": false,
     "start_time": "2024-01-28T15:57:11.688471",
     "status": "completed"
    },
    "tags": []
   },
   "outputs": [
    {
     "data": {
      "text/html": [
       "<div>\n",
       "<style scoped>\n",
       "    .dataframe tbody tr th:only-of-type {\n",
       "        vertical-align: middle;\n",
       "    }\n",
       "\n",
       "    .dataframe tbody tr th {\n",
       "        vertical-align: top;\n",
       "    }\n",
       "\n",
       "    .dataframe thead th {\n",
       "        text-align: right;\n",
       "    }\n",
       "</style>\n",
       "<table border=\"1\" class=\"dataframe\">\n",
       "  <thead>\n",
       "    <tr style=\"text-align: right;\">\n",
       "      <th></th>\n",
       "      <th>Car_Name</th>\n",
       "      <th>Year</th>\n",
       "      <th>Selling_Price</th>\n",
       "      <th>Present_Price</th>\n",
       "      <th>Kms_Driven</th>\n",
       "      <th>Fuel_Type</th>\n",
       "      <th>Seller_Type</th>\n",
       "      <th>Transmission</th>\n",
       "      <th>Owner</th>\n",
       "    </tr>\n",
       "  </thead>\n",
       "  <tbody>\n",
       "    <tr>\n",
       "      <th>0</th>\n",
       "      <td>ritz</td>\n",
       "      <td>2014</td>\n",
       "      <td>3.35</td>\n",
       "      <td>5.59</td>\n",
       "      <td>27000</td>\n",
       "      <td>Petrol</td>\n",
       "      <td>Dealer</td>\n",
       "      <td>Manual</td>\n",
       "      <td>0</td>\n",
       "    </tr>\n",
       "    <tr>\n",
       "      <th>1</th>\n",
       "      <td>sx4</td>\n",
       "      <td>2013</td>\n",
       "      <td>4.75</td>\n",
       "      <td>9.54</td>\n",
       "      <td>43000</td>\n",
       "      <td>Diesel</td>\n",
       "      <td>Dealer</td>\n",
       "      <td>Manual</td>\n",
       "      <td>0</td>\n",
       "    </tr>\n",
       "    <tr>\n",
       "      <th>2</th>\n",
       "      <td>ciaz</td>\n",
       "      <td>2017</td>\n",
       "      <td>7.25</td>\n",
       "      <td>9.85</td>\n",
       "      <td>6900</td>\n",
       "      <td>Petrol</td>\n",
       "      <td>Dealer</td>\n",
       "      <td>Manual</td>\n",
       "      <td>0</td>\n",
       "    </tr>\n",
       "    <tr>\n",
       "      <th>3</th>\n",
       "      <td>wagon r</td>\n",
       "      <td>2011</td>\n",
       "      <td>2.85</td>\n",
       "      <td>4.15</td>\n",
       "      <td>5200</td>\n",
       "      <td>Petrol</td>\n",
       "      <td>Dealer</td>\n",
       "      <td>Manual</td>\n",
       "      <td>0</td>\n",
       "    </tr>\n",
       "    <tr>\n",
       "      <th>4</th>\n",
       "      <td>swift</td>\n",
       "      <td>2014</td>\n",
       "      <td>4.60</td>\n",
       "      <td>6.87</td>\n",
       "      <td>42450</td>\n",
       "      <td>Diesel</td>\n",
       "      <td>Dealer</td>\n",
       "      <td>Manual</td>\n",
       "      <td>0</td>\n",
       "    </tr>\n",
       "  </tbody>\n",
       "</table>\n",
       "</div>"
      ],
      "text/plain": [
       "  Car_Name  Year  Selling_Price  Present_Price  Kms_Driven Fuel_Type  \\\n",
       "0     ritz  2014           3.35           5.59       27000    Petrol   \n",
       "1      sx4  2013           4.75           9.54       43000    Diesel   \n",
       "2     ciaz  2017           7.25           9.85        6900    Petrol   \n",
       "3  wagon r  2011           2.85           4.15        5200    Petrol   \n",
       "4    swift  2014           4.60           6.87       42450    Diesel   \n",
       "\n",
       "  Seller_Type Transmission  Owner  \n",
       "0      Dealer       Manual      0  \n",
       "1      Dealer       Manual      0  \n",
       "2      Dealer       Manual      0  \n",
       "3      Dealer       Manual      0  \n",
       "4      Dealer       Manual      0  "
      ]
     },
     "execution_count": 4,
     "metadata": {},
     "output_type": "execute_result"
    }
   ],
   "source": [
    "# Having a look into data\n",
    "df.head()"
   ]
  },
  {
   "cell_type": "code",
   "execution_count": 5,
   "id": "b72dfbdd",
   "metadata": {
    "execution": {
     "iopub.execute_input": "2024-01-28T15:57:11.780060Z",
     "iopub.status.busy": "2024-01-28T15:57:11.779637Z",
     "iopub.status.idle": "2024-01-28T15:57:11.786618Z",
     "shell.execute_reply": "2024-01-28T15:57:11.785530Z"
    },
    "papermill": {
     "duration": 0.029647,
     "end_time": "2024-01-28T15:57:11.789109",
     "exception": false,
     "start_time": "2024-01-28T15:57:11.759462",
     "status": "completed"
    },
    "tags": []
   },
   "outputs": [
    {
     "data": {
      "text/plain": [
       "(301, 9)"
      ]
     },
     "execution_count": 5,
     "metadata": {},
     "output_type": "execute_result"
    }
   ],
   "source": [
    "# Checking shape(rows, columns) of data \n",
    "df.shape"
   ]
  },
  {
   "cell_type": "code",
   "execution_count": 6,
   "id": "6aa1fcff",
   "metadata": {
    "execution": {
     "iopub.execute_input": "2024-01-28T15:57:11.828406Z",
     "iopub.status.busy": "2024-01-28T15:57:11.827994Z",
     "iopub.status.idle": "2024-01-28T15:57:11.938635Z",
     "shell.execute_reply": "2024-01-28T15:57:11.937109Z"
    },
    "papermill": {
     "duration": 0.133588,
     "end_time": "2024-01-28T15:57:11.941433",
     "exception": false,
     "start_time": "2024-01-28T15:57:11.807845",
     "status": "completed"
    },
    "tags": []
   },
   "outputs": [
    {
     "name": "stdout",
     "output_type": "stream",
     "text": [
      "<class 'pandas.core.frame.DataFrame'>\n",
      "RangeIndex: 301 entries, 0 to 300\n",
      "Data columns (total 9 columns):\n",
      " #   Column         Non-Null Count  Dtype  \n",
      "---  ------         --------------  -----  \n",
      " 0   Car_Name       301 non-null    object \n",
      " 1   Year           301 non-null    int64  \n",
      " 2   Selling_Price  301 non-null    float64\n",
      " 3   Present_Price  301 non-null    float64\n",
      " 4   Kms_Driven     301 non-null    int64  \n",
      " 5   Fuel_Type      301 non-null    object \n",
      " 6   Seller_Type    301 non-null    object \n",
      " 7   Transmission   301 non-null    object \n",
      " 8   Owner          301 non-null    int64  \n",
      "dtypes: float64(2), int64(3), object(4)\n",
      "memory usage: 21.3+ KB\n"
     ]
    }
   ],
   "source": [
    "# Checking for dtypes and null values\n",
    "df.info()"
   ]
  },
  {
   "cell_type": "markdown",
   "id": "d389912a",
   "metadata": {
    "papermill": {
     "duration": 0.018833,
     "end_time": "2024-01-28T15:57:11.979132",
     "exception": false,
     "start_time": "2024-01-28T15:57:11.960299",
     "status": "completed"
    },
    "tags": []
   },
   "source": [
    "Printing unique values for ['Year', 'Fuel_Type', 'Seller_Type', 'Transmission','Owner'] columns as other remaining columns could contaion highly variable values."
   ]
  },
  {
   "cell_type": "code",
   "execution_count": 7,
   "id": "4cbf952f",
   "metadata": {
    "execution": {
     "iopub.execute_input": "2024-01-28T15:57:12.082576Z",
     "iopub.status.busy": "2024-01-28T15:57:12.082138Z",
     "iopub.status.idle": "2024-01-28T15:57:12.093796Z",
     "shell.execute_reply": "2024-01-28T15:57:12.092602Z"
    },
    "papermill": {
     "duration": 0.034453,
     "end_time": "2024-01-28T15:57:12.096222",
     "exception": false,
     "start_time": "2024-01-28T15:57:12.061769",
     "status": "completed"
    },
    "tags": []
   },
   "outputs": [
    {
     "name": "stdout",
     "output_type": "stream",
     "text": [
      "Unique values for Year ---> [2014 2013 2017 2011 2018 2015 2016 2009 2010 2012 2003 2008 2006 2005\n",
      " 2004 2007] ,and those are total : 16\n",
      "\n",
      "Unique values for Fuel_Type ---> ['Petrol' 'Diesel' 'CNG'] ,and those are total : 3\n",
      "\n",
      "Unique values for Seller_Type ---> ['Dealer' 'Individual'] ,and those are total : 2\n",
      "\n",
      "Unique values for Transmission ---> ['Manual' 'Automatic'] ,and those are total : 2\n",
      "\n",
      "Unique values for Owner ---> [0 1 3] ,and those are total : 3\n",
      "\n"
     ]
    }
   ],
   "source": [
    "for i in df:\n",
    "    if i in ['Year', 'Fuel_Type', 'Seller_Type', 'Transmission','Owner']:\n",
    "        print(\"Unique values for\",i, \"--->\" ,df[i].unique(), \",and those are total :\", df[i].nunique(), end = \"\\n\\n\") \n",
    "      "
   ]
  },
  {
   "cell_type": "code",
   "execution_count": 8,
   "id": "f98baa30",
   "metadata": {
    "execution": {
     "iopub.execute_input": "2024-01-28T15:57:12.136241Z",
     "iopub.status.busy": "2024-01-28T15:57:12.135853Z",
     "iopub.status.idle": "2024-01-28T15:57:12.144440Z",
     "shell.execute_reply": "2024-01-28T15:57:12.143363Z"
    },
    "papermill": {
     "duration": 0.031438,
     "end_time": "2024-01-28T15:57:12.146733",
     "exception": false,
     "start_time": "2024-01-28T15:57:12.115295",
     "status": "completed"
    },
    "tags": []
   },
   "outputs": [
    {
     "data": {
      "text/plain": [
       "Car_Name         0\n",
       "Year             0\n",
       "Selling_Price    0\n",
       "Present_Price    0\n",
       "Kms_Driven       0\n",
       "Fuel_Type        0\n",
       "Seller_Type      0\n",
       "Transmission     0\n",
       "Owner            0\n",
       "dtype: int64"
      ]
     },
     "execution_count": 8,
     "metadata": {},
     "output_type": "execute_result"
    }
   ],
   "source": [
    "# Checking for missing or null Values\n",
    "df.isna().sum()"
   ]
  },
  {
   "cell_type": "code",
   "execution_count": 9,
   "id": "99a6770d",
   "metadata": {
    "execution": {
     "iopub.execute_input": "2024-01-28T15:57:12.186885Z",
     "iopub.status.busy": "2024-01-28T15:57:12.186462Z",
     "iopub.status.idle": "2024-01-28T15:57:12.213964Z",
     "shell.execute_reply": "2024-01-28T15:57:12.213125Z"
    },
    "papermill": {
     "duration": 0.050265,
     "end_time": "2024-01-28T15:57:12.216176",
     "exception": false,
     "start_time": "2024-01-28T15:57:12.165911",
     "status": "completed"
    },
    "tags": []
   },
   "outputs": [
    {
     "data": {
      "text/html": [
       "<div>\n",
       "<style scoped>\n",
       "    .dataframe tbody tr th:only-of-type {\n",
       "        vertical-align: middle;\n",
       "    }\n",
       "\n",
       "    .dataframe tbody tr th {\n",
       "        vertical-align: top;\n",
       "    }\n",
       "\n",
       "    .dataframe thead th {\n",
       "        text-align: right;\n",
       "    }\n",
       "</style>\n",
       "<table border=\"1\" class=\"dataframe\">\n",
       "  <thead>\n",
       "    <tr style=\"text-align: right;\">\n",
       "      <th></th>\n",
       "      <th>Year</th>\n",
       "      <th>Selling_Price</th>\n",
       "      <th>Present_Price</th>\n",
       "      <th>Kms_Driven</th>\n",
       "      <th>Owner</th>\n",
       "    </tr>\n",
       "  </thead>\n",
       "  <tbody>\n",
       "    <tr>\n",
       "      <th>count</th>\n",
       "      <td>301.000000</td>\n",
       "      <td>301.000000</td>\n",
       "      <td>301.000000</td>\n",
       "      <td>301.000000</td>\n",
       "      <td>301.000000</td>\n",
       "    </tr>\n",
       "    <tr>\n",
       "      <th>mean</th>\n",
       "      <td>2013.627907</td>\n",
       "      <td>4.661296</td>\n",
       "      <td>7.628472</td>\n",
       "      <td>36947.205980</td>\n",
       "      <td>0.043189</td>\n",
       "    </tr>\n",
       "    <tr>\n",
       "      <th>std</th>\n",
       "      <td>2.891554</td>\n",
       "      <td>5.082812</td>\n",
       "      <td>8.644115</td>\n",
       "      <td>38886.883882</td>\n",
       "      <td>0.247915</td>\n",
       "    </tr>\n",
       "    <tr>\n",
       "      <th>min</th>\n",
       "      <td>2003.000000</td>\n",
       "      <td>0.100000</td>\n",
       "      <td>0.320000</td>\n",
       "      <td>500.000000</td>\n",
       "      <td>0.000000</td>\n",
       "    </tr>\n",
       "    <tr>\n",
       "      <th>25%</th>\n",
       "      <td>2012.000000</td>\n",
       "      <td>0.900000</td>\n",
       "      <td>1.200000</td>\n",
       "      <td>15000.000000</td>\n",
       "      <td>0.000000</td>\n",
       "    </tr>\n",
       "    <tr>\n",
       "      <th>50%</th>\n",
       "      <td>2014.000000</td>\n",
       "      <td>3.600000</td>\n",
       "      <td>6.400000</td>\n",
       "      <td>32000.000000</td>\n",
       "      <td>0.000000</td>\n",
       "    </tr>\n",
       "    <tr>\n",
       "      <th>75%</th>\n",
       "      <td>2016.000000</td>\n",
       "      <td>6.000000</td>\n",
       "      <td>9.900000</td>\n",
       "      <td>48767.000000</td>\n",
       "      <td>0.000000</td>\n",
       "    </tr>\n",
       "    <tr>\n",
       "      <th>max</th>\n",
       "      <td>2018.000000</td>\n",
       "      <td>35.000000</td>\n",
       "      <td>92.600000</td>\n",
       "      <td>500000.000000</td>\n",
       "      <td>3.000000</td>\n",
       "    </tr>\n",
       "  </tbody>\n",
       "</table>\n",
       "</div>"
      ],
      "text/plain": [
       "              Year  Selling_Price  Present_Price     Kms_Driven       Owner\n",
       "count   301.000000     301.000000     301.000000     301.000000  301.000000\n",
       "mean   2013.627907       4.661296       7.628472   36947.205980    0.043189\n",
       "std       2.891554       5.082812       8.644115   38886.883882    0.247915\n",
       "min    2003.000000       0.100000       0.320000     500.000000    0.000000\n",
       "25%    2012.000000       0.900000       1.200000   15000.000000    0.000000\n",
       "50%    2014.000000       3.600000       6.400000   32000.000000    0.000000\n",
       "75%    2016.000000       6.000000       9.900000   48767.000000    0.000000\n",
       "max    2018.000000      35.000000      92.600000  500000.000000    3.000000"
      ]
     },
     "execution_count": 9,
     "metadata": {},
     "output_type": "execute_result"
    }
   ],
   "source": [
    "# Checkign Statistical values \n",
    "df.describe()"
   ]
  },
  {
   "cell_type": "markdown",
   "id": "8b44b0ba",
   "metadata": {
    "papermill": {
     "duration": 0.019849,
     "end_time": "2024-01-28T15:57:12.256448",
     "exception": false,
     "start_time": "2024-01-28T15:57:12.236599",
     "status": "completed"
    },
    "tags": []
   },
   "source": [
    "Removing \"Car_Name\" in new dataset as its not required for current scenario as it would not help much in prediction the preuce of car as car has a unique name."
   ]
  },
  {
   "cell_type": "code",
   "execution_count": 10,
   "id": "5c3ab720",
   "metadata": {
    "execution": {
     "iopub.execute_input": "2024-01-28T15:57:12.299082Z",
     "iopub.status.busy": "2024-01-28T15:57:12.298659Z",
     "iopub.status.idle": "2024-01-28T15:57:12.309151Z",
     "shell.execute_reply": "2024-01-28T15:57:12.308373Z"
    },
    "papermill": {
     "duration": 0.034576,
     "end_time": "2024-01-28T15:57:12.311254",
     "exception": false,
     "start_time": "2024-01-28T15:57:12.276678",
     "status": "completed"
    },
    "tags": []
   },
   "outputs": [],
   "source": [
    "df1 = df.drop('Car_Name', axis=1)"
   ]
  },
  {
   "cell_type": "code",
   "execution_count": 11,
   "id": "9143ff94",
   "metadata": {
    "execution": {
     "iopub.execute_input": "2024-01-28T15:57:12.351824Z",
     "iopub.status.busy": "2024-01-28T15:57:12.351342Z",
     "iopub.status.idle": "2024-01-28T15:57:12.367626Z",
     "shell.execute_reply": "2024-01-28T15:57:12.366292Z"
    },
    "papermill": {
     "duration": 0.039269,
     "end_time": "2024-01-28T15:57:12.369963",
     "exception": false,
     "start_time": "2024-01-28T15:57:12.330694",
     "status": "completed"
    },
    "tags": []
   },
   "outputs": [
    {
     "data": {
      "text/html": [
       "<div>\n",
       "<style scoped>\n",
       "    .dataframe tbody tr th:only-of-type {\n",
       "        vertical-align: middle;\n",
       "    }\n",
       "\n",
       "    .dataframe tbody tr th {\n",
       "        vertical-align: top;\n",
       "    }\n",
       "\n",
       "    .dataframe thead th {\n",
       "        text-align: right;\n",
       "    }\n",
       "</style>\n",
       "<table border=\"1\" class=\"dataframe\">\n",
       "  <thead>\n",
       "    <tr style=\"text-align: right;\">\n",
       "      <th></th>\n",
       "      <th>Year</th>\n",
       "      <th>Selling_Price</th>\n",
       "      <th>Present_Price</th>\n",
       "      <th>Kms_Driven</th>\n",
       "      <th>Fuel_Type</th>\n",
       "      <th>Seller_Type</th>\n",
       "      <th>Transmission</th>\n",
       "      <th>Owner</th>\n",
       "    </tr>\n",
       "  </thead>\n",
       "  <tbody>\n",
       "    <tr>\n",
       "      <th>0</th>\n",
       "      <td>2014</td>\n",
       "      <td>3.35</td>\n",
       "      <td>5.59</td>\n",
       "      <td>27000</td>\n",
       "      <td>Petrol</td>\n",
       "      <td>Dealer</td>\n",
       "      <td>Manual</td>\n",
       "      <td>0</td>\n",
       "    </tr>\n",
       "    <tr>\n",
       "      <th>1</th>\n",
       "      <td>2013</td>\n",
       "      <td>4.75</td>\n",
       "      <td>9.54</td>\n",
       "      <td>43000</td>\n",
       "      <td>Diesel</td>\n",
       "      <td>Dealer</td>\n",
       "      <td>Manual</td>\n",
       "      <td>0</td>\n",
       "    </tr>\n",
       "    <tr>\n",
       "      <th>2</th>\n",
       "      <td>2017</td>\n",
       "      <td>7.25</td>\n",
       "      <td>9.85</td>\n",
       "      <td>6900</td>\n",
       "      <td>Petrol</td>\n",
       "      <td>Dealer</td>\n",
       "      <td>Manual</td>\n",
       "      <td>0</td>\n",
       "    </tr>\n",
       "    <tr>\n",
       "      <th>3</th>\n",
       "      <td>2011</td>\n",
       "      <td>2.85</td>\n",
       "      <td>4.15</td>\n",
       "      <td>5200</td>\n",
       "      <td>Petrol</td>\n",
       "      <td>Dealer</td>\n",
       "      <td>Manual</td>\n",
       "      <td>0</td>\n",
       "    </tr>\n",
       "    <tr>\n",
       "      <th>4</th>\n",
       "      <td>2014</td>\n",
       "      <td>4.60</td>\n",
       "      <td>6.87</td>\n",
       "      <td>42450</td>\n",
       "      <td>Diesel</td>\n",
       "      <td>Dealer</td>\n",
       "      <td>Manual</td>\n",
       "      <td>0</td>\n",
       "    </tr>\n",
       "  </tbody>\n",
       "</table>\n",
       "</div>"
      ],
      "text/plain": [
       "   Year  Selling_Price  Present_Price  Kms_Driven Fuel_Type Seller_Type  \\\n",
       "0  2014           3.35           5.59       27000    Petrol      Dealer   \n",
       "1  2013           4.75           9.54       43000    Diesel      Dealer   \n",
       "2  2017           7.25           9.85        6900    Petrol      Dealer   \n",
       "3  2011           2.85           4.15        5200    Petrol      Dealer   \n",
       "4  2014           4.60           6.87       42450    Diesel      Dealer   \n",
       "\n",
       "  Transmission  Owner  \n",
       "0       Manual      0  \n",
       "1       Manual      0  \n",
       "2       Manual      0  \n",
       "3       Manual      0  \n",
       "4       Manual      0  "
      ]
     },
     "execution_count": 11,
     "metadata": {},
     "output_type": "execute_result"
    }
   ],
   "source": [
    "df1.head()"
   ]
  },
  {
   "cell_type": "code",
   "execution_count": 12,
   "id": "27b4daed",
   "metadata": {
    "execution": {
     "iopub.execute_input": "2024-01-28T15:57:12.411483Z",
     "iopub.status.busy": "2024-01-28T15:57:12.410889Z",
     "iopub.status.idle": "2024-01-28T15:57:12.416666Z",
     "shell.execute_reply": "2024-01-28T15:57:12.415559Z"
    },
    "papermill": {
     "duration": 0.02926,
     "end_time": "2024-01-28T15:57:12.418952",
     "exception": false,
     "start_time": "2024-01-28T15:57:12.389692",
     "status": "completed"
    },
    "tags": []
   },
   "outputs": [],
   "source": [
    "# Creating new column to get new derived column from 'Year' and 'Current_Year' as \"No_Of_Year\"\n",
    "df1['Current_Year'] = 2024"
   ]
  },
  {
   "cell_type": "code",
   "execution_count": 13,
   "id": "608ed5b5",
   "metadata": {
    "execution": {
     "iopub.execute_input": "2024-01-28T15:57:12.460460Z",
     "iopub.status.busy": "2024-01-28T15:57:12.459842Z",
     "iopub.status.idle": "2024-01-28T15:57:12.466255Z",
     "shell.execute_reply": "2024-01-28T15:57:12.465012Z"
    },
    "papermill": {
     "duration": 0.030001,
     "end_time": "2024-01-28T15:57:12.468930",
     "exception": false,
     "start_time": "2024-01-28T15:57:12.438929",
     "status": "completed"
    },
    "tags": []
   },
   "outputs": [],
   "source": [
    "# Creating new column named 'No_of_Years' so that we can use this measure for prediction of price in to current year\n",
    "df1['No_of_Years'] = df1['Current_Year'] - df1['Year']"
   ]
  },
  {
   "cell_type": "code",
   "execution_count": 14,
   "id": "2ce1ee1a",
   "metadata": {
    "execution": {
     "iopub.execute_input": "2024-01-28T15:57:12.511346Z",
     "iopub.status.busy": "2024-01-28T15:57:12.510903Z",
     "iopub.status.idle": "2024-01-28T15:57:12.526938Z",
     "shell.execute_reply": "2024-01-28T15:57:12.525881Z"
    },
    "papermill": {
     "duration": 0.039804,
     "end_time": "2024-01-28T15:57:12.529364",
     "exception": false,
     "start_time": "2024-01-28T15:57:12.489560",
     "status": "completed"
    },
    "tags": []
   },
   "outputs": [
    {
     "data": {
      "text/html": [
       "<div>\n",
       "<style scoped>\n",
       "    .dataframe tbody tr th:only-of-type {\n",
       "        vertical-align: middle;\n",
       "    }\n",
       "\n",
       "    .dataframe tbody tr th {\n",
       "        vertical-align: top;\n",
       "    }\n",
       "\n",
       "    .dataframe thead th {\n",
       "        text-align: right;\n",
       "    }\n",
       "</style>\n",
       "<table border=\"1\" class=\"dataframe\">\n",
       "  <thead>\n",
       "    <tr style=\"text-align: right;\">\n",
       "      <th></th>\n",
       "      <th>Year</th>\n",
       "      <th>Selling_Price</th>\n",
       "      <th>Present_Price</th>\n",
       "      <th>Kms_Driven</th>\n",
       "      <th>Fuel_Type</th>\n",
       "      <th>Seller_Type</th>\n",
       "      <th>Transmission</th>\n",
       "      <th>Owner</th>\n",
       "      <th>Current_Year</th>\n",
       "      <th>No_of_Years</th>\n",
       "    </tr>\n",
       "  </thead>\n",
       "  <tbody>\n",
       "    <tr>\n",
       "      <th>0</th>\n",
       "      <td>2014</td>\n",
       "      <td>3.35</td>\n",
       "      <td>5.59</td>\n",
       "      <td>27000</td>\n",
       "      <td>Petrol</td>\n",
       "      <td>Dealer</td>\n",
       "      <td>Manual</td>\n",
       "      <td>0</td>\n",
       "      <td>2024</td>\n",
       "      <td>10</td>\n",
       "    </tr>\n",
       "    <tr>\n",
       "      <th>1</th>\n",
       "      <td>2013</td>\n",
       "      <td>4.75</td>\n",
       "      <td>9.54</td>\n",
       "      <td>43000</td>\n",
       "      <td>Diesel</td>\n",
       "      <td>Dealer</td>\n",
       "      <td>Manual</td>\n",
       "      <td>0</td>\n",
       "      <td>2024</td>\n",
       "      <td>11</td>\n",
       "    </tr>\n",
       "    <tr>\n",
       "      <th>2</th>\n",
       "      <td>2017</td>\n",
       "      <td>7.25</td>\n",
       "      <td>9.85</td>\n",
       "      <td>6900</td>\n",
       "      <td>Petrol</td>\n",
       "      <td>Dealer</td>\n",
       "      <td>Manual</td>\n",
       "      <td>0</td>\n",
       "      <td>2024</td>\n",
       "      <td>7</td>\n",
       "    </tr>\n",
       "    <tr>\n",
       "      <th>3</th>\n",
       "      <td>2011</td>\n",
       "      <td>2.85</td>\n",
       "      <td>4.15</td>\n",
       "      <td>5200</td>\n",
       "      <td>Petrol</td>\n",
       "      <td>Dealer</td>\n",
       "      <td>Manual</td>\n",
       "      <td>0</td>\n",
       "      <td>2024</td>\n",
       "      <td>13</td>\n",
       "    </tr>\n",
       "    <tr>\n",
       "      <th>4</th>\n",
       "      <td>2014</td>\n",
       "      <td>4.60</td>\n",
       "      <td>6.87</td>\n",
       "      <td>42450</td>\n",
       "      <td>Diesel</td>\n",
       "      <td>Dealer</td>\n",
       "      <td>Manual</td>\n",
       "      <td>0</td>\n",
       "      <td>2024</td>\n",
       "      <td>10</td>\n",
       "    </tr>\n",
       "  </tbody>\n",
       "</table>\n",
       "</div>"
      ],
      "text/plain": [
       "   Year  Selling_Price  Present_Price  Kms_Driven Fuel_Type Seller_Type  \\\n",
       "0  2014           3.35           5.59       27000    Petrol      Dealer   \n",
       "1  2013           4.75           9.54       43000    Diesel      Dealer   \n",
       "2  2017           7.25           9.85        6900    Petrol      Dealer   \n",
       "3  2011           2.85           4.15        5200    Petrol      Dealer   \n",
       "4  2014           4.60           6.87       42450    Diesel      Dealer   \n",
       "\n",
       "  Transmission  Owner  Current_Year  No_of_Years  \n",
       "0       Manual      0          2024           10  \n",
       "1       Manual      0          2024           11  \n",
       "2       Manual      0          2024            7  \n",
       "3       Manual      0          2024           13  \n",
       "4       Manual      0          2024           10  "
      ]
     },
     "execution_count": 14,
     "metadata": {},
     "output_type": "execute_result"
    }
   ],
   "source": [
    "df1.head()\n"
   ]
  },
  {
   "cell_type": "code",
   "execution_count": 15,
   "id": "5c8e6219",
   "metadata": {
    "execution": {
     "iopub.execute_input": "2024-01-28T15:57:12.573754Z",
     "iopub.status.busy": "2024-01-28T15:57:12.573289Z",
     "iopub.status.idle": "2024-01-28T15:57:12.579939Z",
     "shell.execute_reply": "2024-01-28T15:57:12.578907Z"
    },
    "papermill": {
     "duration": 0.032953,
     "end_time": "2024-01-28T15:57:12.582400",
     "exception": false,
     "start_time": "2024-01-28T15:57:12.549447",
     "status": "completed"
    },
    "tags": []
   },
   "outputs": [],
   "source": [
    "# Dropping 'Year' and 'Current_Year' as those won't be the measure used for prediction of price\n",
    "df1.drop(columns=(['Year', 'Current_Year']), axis = 1, inplace = True)"
   ]
  },
  {
   "cell_type": "markdown",
   "id": "8d4853d0",
   "metadata": {
    "papermill": {
     "duration": 0.019993,
     "end_time": "2024-01-28T15:57:12.622462",
     "exception": false,
     "start_time": "2024-01-28T15:57:12.602469",
     "status": "completed"
    },
    "tags": []
   },
   "source": [
    "### **Converting Nominal/Categorical Data to Numerical datatype**"
   ]
  },
  {
   "cell_type": "code",
   "execution_count": 16,
   "id": "57c5857e",
   "metadata": {
    "execution": {
     "iopub.execute_input": "2024-01-28T15:57:12.664477Z",
     "iopub.status.busy": "2024-01-28T15:57:12.664059Z",
     "iopub.status.idle": "2024-01-28T15:57:12.675638Z",
     "shell.execute_reply": "2024-01-28T15:57:12.674281Z"
    },
    "papermill": {
     "duration": 0.035967,
     "end_time": "2024-01-28T15:57:12.678478",
     "exception": false,
     "start_time": "2024-01-28T15:57:12.642511",
     "status": "completed"
    },
    "tags": []
   },
   "outputs": [],
   "source": [
    "# get_dummies helps to convert categorical into numerical data type just like onehot encoding. \n",
    "df1=pd.get_dummies(df1, drop_first=True) \n",
    "# Here \"drop_first=True\" means that we drop first column of that column which gets converted to numerical one "
   ]
  },
  {
   "cell_type": "code",
   "execution_count": 17,
   "id": "41c37ba5",
   "metadata": {
    "execution": {
     "iopub.execute_input": "2024-01-28T15:57:12.720850Z",
     "iopub.status.busy": "2024-01-28T15:57:12.720430Z",
     "iopub.status.idle": "2024-01-28T15:57:12.737477Z",
     "shell.execute_reply": "2024-01-28T15:57:12.736029Z"
    },
    "papermill": {
     "duration": 0.04098,
     "end_time": "2024-01-28T15:57:12.739774",
     "exception": false,
     "start_time": "2024-01-28T15:57:12.698794",
     "status": "completed"
    },
    "tags": []
   },
   "outputs": [
    {
     "data": {
      "text/html": [
       "<div>\n",
       "<style scoped>\n",
       "    .dataframe tbody tr th:only-of-type {\n",
       "        vertical-align: middle;\n",
       "    }\n",
       "\n",
       "    .dataframe tbody tr th {\n",
       "        vertical-align: top;\n",
       "    }\n",
       "\n",
       "    .dataframe thead th {\n",
       "        text-align: right;\n",
       "    }\n",
       "</style>\n",
       "<table border=\"1\" class=\"dataframe\">\n",
       "  <thead>\n",
       "    <tr style=\"text-align: right;\">\n",
       "      <th></th>\n",
       "      <th>Selling_Price</th>\n",
       "      <th>Present_Price</th>\n",
       "      <th>Kms_Driven</th>\n",
       "      <th>Owner</th>\n",
       "      <th>No_of_Years</th>\n",
       "      <th>Fuel_Type_Diesel</th>\n",
       "      <th>Fuel_Type_Petrol</th>\n",
       "      <th>Seller_Type_Individual</th>\n",
       "      <th>Transmission_Manual</th>\n",
       "    </tr>\n",
       "  </thead>\n",
       "  <tbody>\n",
       "    <tr>\n",
       "      <th>0</th>\n",
       "      <td>3.35</td>\n",
       "      <td>5.59</td>\n",
       "      <td>27000</td>\n",
       "      <td>0</td>\n",
       "      <td>10</td>\n",
       "      <td>False</td>\n",
       "      <td>True</td>\n",
       "      <td>False</td>\n",
       "      <td>True</td>\n",
       "    </tr>\n",
       "    <tr>\n",
       "      <th>1</th>\n",
       "      <td>4.75</td>\n",
       "      <td>9.54</td>\n",
       "      <td>43000</td>\n",
       "      <td>0</td>\n",
       "      <td>11</td>\n",
       "      <td>True</td>\n",
       "      <td>False</td>\n",
       "      <td>False</td>\n",
       "      <td>True</td>\n",
       "    </tr>\n",
       "    <tr>\n",
       "      <th>2</th>\n",
       "      <td>7.25</td>\n",
       "      <td>9.85</td>\n",
       "      <td>6900</td>\n",
       "      <td>0</td>\n",
       "      <td>7</td>\n",
       "      <td>False</td>\n",
       "      <td>True</td>\n",
       "      <td>False</td>\n",
       "      <td>True</td>\n",
       "    </tr>\n",
       "    <tr>\n",
       "      <th>3</th>\n",
       "      <td>2.85</td>\n",
       "      <td>4.15</td>\n",
       "      <td>5200</td>\n",
       "      <td>0</td>\n",
       "      <td>13</td>\n",
       "      <td>False</td>\n",
       "      <td>True</td>\n",
       "      <td>False</td>\n",
       "      <td>True</td>\n",
       "    </tr>\n",
       "    <tr>\n",
       "      <th>4</th>\n",
       "      <td>4.60</td>\n",
       "      <td>6.87</td>\n",
       "      <td>42450</td>\n",
       "      <td>0</td>\n",
       "      <td>10</td>\n",
       "      <td>True</td>\n",
       "      <td>False</td>\n",
       "      <td>False</td>\n",
       "      <td>True</td>\n",
       "    </tr>\n",
       "  </tbody>\n",
       "</table>\n",
       "</div>"
      ],
      "text/plain": [
       "   Selling_Price  Present_Price  Kms_Driven  Owner  No_of_Years  \\\n",
       "0           3.35           5.59       27000      0           10   \n",
       "1           4.75           9.54       43000      0           11   \n",
       "2           7.25           9.85        6900      0            7   \n",
       "3           2.85           4.15        5200      0           13   \n",
       "4           4.60           6.87       42450      0           10   \n",
       "\n",
       "   Fuel_Type_Diesel  Fuel_Type_Petrol  Seller_Type_Individual  \\\n",
       "0             False              True                   False   \n",
       "1              True             False                   False   \n",
       "2             False              True                   False   \n",
       "3             False              True                   False   \n",
       "4              True             False                   False   \n",
       "\n",
       "   Transmission_Manual  \n",
       "0                 True  \n",
       "1                 True  \n",
       "2                 True  \n",
       "3                 True  \n",
       "4                 True  "
      ]
     },
     "execution_count": 17,
     "metadata": {},
     "output_type": "execute_result"
    }
   ],
   "source": [
    "df1.head()"
   ]
  },
  {
   "cell_type": "code",
   "execution_count": 18,
   "id": "f80fe6aa",
   "metadata": {
    "execution": {
     "iopub.execute_input": "2024-01-28T15:57:12.782713Z",
     "iopub.status.busy": "2024-01-28T15:57:12.782006Z",
     "iopub.status.idle": "2024-01-28T15:57:12.802801Z",
     "shell.execute_reply": "2024-01-28T15:57:12.801664Z"
    },
    "papermill": {
     "duration": 0.044979,
     "end_time": "2024-01-28T15:57:12.805015",
     "exception": false,
     "start_time": "2024-01-28T15:57:12.760036",
     "status": "completed"
    },
    "tags": []
   },
   "outputs": [
    {
     "data": {
      "text/html": [
       "<div>\n",
       "<style scoped>\n",
       "    .dataframe tbody tr th:only-of-type {\n",
       "        vertical-align: middle;\n",
       "    }\n",
       "\n",
       "    .dataframe tbody tr th {\n",
       "        vertical-align: top;\n",
       "    }\n",
       "\n",
       "    .dataframe thead th {\n",
       "        text-align: right;\n",
       "    }\n",
       "</style>\n",
       "<table border=\"1\" class=\"dataframe\">\n",
       "  <thead>\n",
       "    <tr style=\"text-align: right;\">\n",
       "      <th></th>\n",
       "      <th>Selling_Price</th>\n",
       "      <th>Present_Price</th>\n",
       "      <th>Kms_Driven</th>\n",
       "      <th>Owner</th>\n",
       "      <th>No_of_Years</th>\n",
       "      <th>Fuel_Type_Diesel</th>\n",
       "      <th>Fuel_Type_Petrol</th>\n",
       "      <th>Seller_Type_Individual</th>\n",
       "      <th>Transmission_Manual</th>\n",
       "    </tr>\n",
       "  </thead>\n",
       "  <tbody>\n",
       "    <tr>\n",
       "      <th>Selling_Price</th>\n",
       "      <td>1.000000</td>\n",
       "      <td>0.878983</td>\n",
       "      <td>0.029187</td>\n",
       "      <td>-0.088344</td>\n",
       "      <td>-0.236141</td>\n",
       "      <td>0.552339</td>\n",
       "      <td>-0.540571</td>\n",
       "      <td>-0.550724</td>\n",
       "      <td>-0.367128</td>\n",
       "    </tr>\n",
       "    <tr>\n",
       "      <th>Present_Price</th>\n",
       "      <td>0.878983</td>\n",
       "      <td>1.000000</td>\n",
       "      <td>0.203647</td>\n",
       "      <td>0.008057</td>\n",
       "      <td>0.047584</td>\n",
       "      <td>0.473306</td>\n",
       "      <td>-0.465244</td>\n",
       "      <td>-0.512030</td>\n",
       "      <td>-0.348715</td>\n",
       "    </tr>\n",
       "    <tr>\n",
       "      <th>Kms_Driven</th>\n",
       "      <td>0.029187</td>\n",
       "      <td>0.203647</td>\n",
       "      <td>1.000000</td>\n",
       "      <td>0.089216</td>\n",
       "      <td>0.524342</td>\n",
       "      <td>0.172515</td>\n",
       "      <td>-0.172874</td>\n",
       "      <td>-0.101419</td>\n",
       "      <td>-0.162510</td>\n",
       "    </tr>\n",
       "    <tr>\n",
       "      <th>Owner</th>\n",
       "      <td>-0.088344</td>\n",
       "      <td>0.008057</td>\n",
       "      <td>0.089216</td>\n",
       "      <td>1.000000</td>\n",
       "      <td>0.182104</td>\n",
       "      <td>-0.053469</td>\n",
       "      <td>0.055687</td>\n",
       "      <td>0.124269</td>\n",
       "      <td>-0.050316</td>\n",
       "    </tr>\n",
       "    <tr>\n",
       "      <th>No_of_Years</th>\n",
       "      <td>-0.236141</td>\n",
       "      <td>0.047584</td>\n",
       "      <td>0.524342</td>\n",
       "      <td>0.182104</td>\n",
       "      <td>1.000000</td>\n",
       "      <td>-0.064315</td>\n",
       "      <td>0.059959</td>\n",
       "      <td>0.039896</td>\n",
       "      <td>-0.000394</td>\n",
       "    </tr>\n",
       "    <tr>\n",
       "      <th>Fuel_Type_Diesel</th>\n",
       "      <td>0.552339</td>\n",
       "      <td>0.473306</td>\n",
       "      <td>0.172515</td>\n",
       "      <td>-0.053469</td>\n",
       "      <td>-0.064315</td>\n",
       "      <td>1.000000</td>\n",
       "      <td>-0.979648</td>\n",
       "      <td>-0.350467</td>\n",
       "      <td>-0.098643</td>\n",
       "    </tr>\n",
       "    <tr>\n",
       "      <th>Fuel_Type_Petrol</th>\n",
       "      <td>-0.540571</td>\n",
       "      <td>-0.465244</td>\n",
       "      <td>-0.172874</td>\n",
       "      <td>0.055687</td>\n",
       "      <td>0.059959</td>\n",
       "      <td>-0.979648</td>\n",
       "      <td>1.000000</td>\n",
       "      <td>0.358321</td>\n",
       "      <td>0.091013</td>\n",
       "    </tr>\n",
       "    <tr>\n",
       "      <th>Seller_Type_Individual</th>\n",
       "      <td>-0.550724</td>\n",
       "      <td>-0.512030</td>\n",
       "      <td>-0.101419</td>\n",
       "      <td>0.124269</td>\n",
       "      <td>0.039896</td>\n",
       "      <td>-0.350467</td>\n",
       "      <td>0.358321</td>\n",
       "      <td>1.000000</td>\n",
       "      <td>0.063240</td>\n",
       "    </tr>\n",
       "    <tr>\n",
       "      <th>Transmission_Manual</th>\n",
       "      <td>-0.367128</td>\n",
       "      <td>-0.348715</td>\n",
       "      <td>-0.162510</td>\n",
       "      <td>-0.050316</td>\n",
       "      <td>-0.000394</td>\n",
       "      <td>-0.098643</td>\n",
       "      <td>0.091013</td>\n",
       "      <td>0.063240</td>\n",
       "      <td>1.000000</td>\n",
       "    </tr>\n",
       "  </tbody>\n",
       "</table>\n",
       "</div>"
      ],
      "text/plain": [
       "                        Selling_Price  Present_Price  Kms_Driven     Owner  \\\n",
       "Selling_Price                1.000000       0.878983    0.029187 -0.088344   \n",
       "Present_Price                0.878983       1.000000    0.203647  0.008057   \n",
       "Kms_Driven                   0.029187       0.203647    1.000000  0.089216   \n",
       "Owner                       -0.088344       0.008057    0.089216  1.000000   \n",
       "No_of_Years                 -0.236141       0.047584    0.524342  0.182104   \n",
       "Fuel_Type_Diesel             0.552339       0.473306    0.172515 -0.053469   \n",
       "Fuel_Type_Petrol            -0.540571      -0.465244   -0.172874  0.055687   \n",
       "Seller_Type_Individual      -0.550724      -0.512030   -0.101419  0.124269   \n",
       "Transmission_Manual         -0.367128      -0.348715   -0.162510 -0.050316   \n",
       "\n",
       "                        No_of_Years  Fuel_Type_Diesel  Fuel_Type_Petrol  \\\n",
       "Selling_Price             -0.236141          0.552339         -0.540571   \n",
       "Present_Price              0.047584          0.473306         -0.465244   \n",
       "Kms_Driven                 0.524342          0.172515         -0.172874   \n",
       "Owner                      0.182104         -0.053469          0.055687   \n",
       "No_of_Years                1.000000         -0.064315          0.059959   \n",
       "Fuel_Type_Diesel          -0.064315          1.000000         -0.979648   \n",
       "Fuel_Type_Petrol           0.059959         -0.979648          1.000000   \n",
       "Seller_Type_Individual     0.039896         -0.350467          0.358321   \n",
       "Transmission_Manual       -0.000394         -0.098643          0.091013   \n",
       "\n",
       "                        Seller_Type_Individual  Transmission_Manual  \n",
       "Selling_Price                        -0.550724            -0.367128  \n",
       "Present_Price                        -0.512030            -0.348715  \n",
       "Kms_Driven                           -0.101419            -0.162510  \n",
       "Owner                                 0.124269            -0.050316  \n",
       "No_of_Years                           0.039896            -0.000394  \n",
       "Fuel_Type_Diesel                     -0.350467            -0.098643  \n",
       "Fuel_Type_Petrol                      0.358321             0.091013  \n",
       "Seller_Type_Individual                1.000000             0.063240  \n",
       "Transmission_Manual                   0.063240             1.000000  "
      ]
     },
     "execution_count": 18,
     "metadata": {},
     "output_type": "execute_result"
    }
   ],
   "source": [
    "# Correlation between numerical columns\n",
    "df1.corr()"
   ]
  },
  {
   "cell_type": "code",
   "execution_count": 19,
   "id": "87775512",
   "metadata": {
    "execution": {
     "iopub.execute_input": "2024-01-28T15:57:12.848866Z",
     "iopub.status.busy": "2024-01-28T15:57:12.848477Z",
     "iopub.status.idle": "2024-01-28T15:57:13.617113Z",
     "shell.execute_reply": "2024-01-28T15:57:13.615766Z"
    },
    "papermill": {
     "duration": 0.794044,
     "end_time": "2024-01-28T15:57:13.619908",
     "exception": false,
     "start_time": "2024-01-28T15:57:12.825864",
     "status": "completed"
    },
    "tags": []
   },
   "outputs": [
    {
     "data": {
      "image/png": "[encoded data removed]",
      "text/plain": [
       "<Figure size 1000x500 with 2 Axes>"
      ]
     },
     "metadata": {},
     "output_type": "display_data"
    }
   ],
   "source": [
    "#Plotting Heatmap to check the correlation between each columns\n",
    "corrmap = df1.corr()\n",
    "top_corr_features = corrmap.index \n",
    "plt.figure(figsize=(10,5))\n",
    "g=sns.heatmap(df1[top_corr_features].corr(),annot=True,cmap=\"RdYlGn\")"
   ]
  },
  {
   "cell_type": "markdown",
   "id": "abefddb6",
   "metadata": {
    "papermill": {
     "duration": 0.022445,
     "end_time": "2024-01-28T15:57:13.665851",
     "exception": false,
     "start_time": "2024-01-28T15:57:13.643406",
     "status": "completed"
    },
    "tags": []
   },
   "source": [
    "## **Training the model**"
   ]
  },
  {
   "cell_type": "markdown",
   "id": "03c9e124",
   "metadata": {
    "papermill": {
     "duration": 0.022331,
     "end_time": "2024-01-28T15:57:13.711749",
     "exception": false,
     "start_time": "2024-01-28T15:57:13.689418",
     "status": "completed"
    },
    "tags": []
   },
   "source": [
    "### **Splitting the data into train_test_split model**"
   ]
  },
  {
   "cell_type": "code",
   "execution_count": 20,
   "id": "30955814",
   "metadata": {
    "execution": {
     "iopub.execute_input": "2024-01-28T15:57:13.758988Z",
     "iopub.status.busy": "2024-01-28T15:57:13.758585Z",
     "iopub.status.idle": "2024-01-28T15:57:13.765118Z",
     "shell.execute_reply": "2024-01-28T15:57:13.763863Z"
    },
    "papermill": {
     "duration": 0.033295,
     "end_time": "2024-01-28T15:57:13.767729",
     "exception": false,
     "start_time": "2024-01-28T15:57:13.734434",
     "status": "completed"
    },
    "tags": []
   },
   "outputs": [],
   "source": [
    "# Independent variables\n",
    "X = df1.drop(\"Selling_Price\", axis = 1)\n",
    "\n",
    "# Dependent variables\n",
    "y = df1['Selling_Price']"
   ]
  },
  {
   "cell_type": "code",
   "execution_count": 21,
   "id": "c600a50d",
   "metadata": {
    "execution": {
     "iopub.execute_input": "2024-01-28T15:57:13.815026Z",
     "iopub.status.busy": "2024-01-28T15:57:13.814584Z",
     "iopub.status.idle": "2024-01-28T15:57:13.829971Z",
     "shell.execute_reply": "2024-01-28T15:57:13.828773Z"
    },
    "papermill": {
     "duration": 0.042037,
     "end_time": "2024-01-28T15:57:13.832473",
     "exception": false,
     "start_time": "2024-01-28T15:57:13.790436",
     "status": "completed"
    },
    "tags": []
   },
   "outputs": [
    {
     "data": {
      "text/html": [
       "<div>\n",
       "<style scoped>\n",
       "    .dataframe tbody tr th:only-of-type {\n",
       "        vertical-align: middle;\n",
       "    }\n",
       "\n",
       "    .dataframe tbody tr th {\n",
       "        vertical-align: top;\n",
       "    }\n",
       "\n",
       "    .dataframe thead th {\n",
       "        text-align: right;\n",
       "    }\n",
       "</style>\n",
       "<table border=\"1\" class=\"dataframe\">\n",
       "  <thead>\n",
       "    <tr style=\"text-align: right;\">\n",
       "      <th></th>\n",
       "      <th>Present_Price</th>\n",
       "      <th>Kms_Driven</th>\n",
       "      <th>Owner</th>\n",
       "      <th>No_of_Years</th>\n",
       "      <th>Fuel_Type_Diesel</th>\n",
       "      <th>Fuel_Type_Petrol</th>\n",
       "      <th>Seller_Type_Individual</th>\n",
       "      <th>Transmission_Manual</th>\n",
       "    </tr>\n",
       "  </thead>\n",
       "  <tbody>\n",
       "    <tr>\n",
       "      <th>0</th>\n",
       "      <td>5.59</td>\n",
       "      <td>27000</td>\n",
       "      <td>0</td>\n",
       "      <td>10</td>\n",
       "      <td>False</td>\n",
       "      <td>True</td>\n",
       "      <td>False</td>\n",
       "      <td>True</td>\n",
       "    </tr>\n",
       "    <tr>\n",
       "      <th>1</th>\n",
       "      <td>9.54</td>\n",
       "      <td>43000</td>\n",
       "      <td>0</td>\n",
       "      <td>11</td>\n",
       "      <td>True</td>\n",
       "      <td>False</td>\n",
       "      <td>False</td>\n",
       "      <td>True</td>\n",
       "    </tr>\n",
       "    <tr>\n",
       "      <th>2</th>\n",
       "      <td>9.85</td>\n",
       "      <td>6900</td>\n",
       "      <td>0</td>\n",
       "      <td>7</td>\n",
       "      <td>False</td>\n",
       "      <td>True</td>\n",
       "      <td>False</td>\n",
       "      <td>True</td>\n",
       "    </tr>\n",
       "    <tr>\n",
       "      <th>3</th>\n",
       "      <td>4.15</td>\n",
       "      <td>5200</td>\n",
       "      <td>0</td>\n",
       "      <td>13</td>\n",
       "      <td>False</td>\n",
       "      <td>True</td>\n",
       "      <td>False</td>\n",
       "      <td>True</td>\n",
       "    </tr>\n",
       "    <tr>\n",
       "      <th>4</th>\n",
       "      <td>6.87</td>\n",
       "      <td>42450</td>\n",
       "      <td>0</td>\n",
       "      <td>10</td>\n",
       "      <td>True</td>\n",
       "      <td>False</td>\n",
       "      <td>False</td>\n",
       "      <td>True</td>\n",
       "    </tr>\n",
       "  </tbody>\n",
       "</table>\n",
       "</div>"
      ],
      "text/plain": [
       "   Present_Price  Kms_Driven  Owner  No_of_Years  Fuel_Type_Diesel  \\\n",
       "0           5.59       27000      0           10             False   \n",
       "1           9.54       43000      0           11              True   \n",
       "2           9.85        6900      0            7             False   \n",
       "3           4.15        5200      0           13             False   \n",
       "4           6.87       42450      0           10              True   \n",
       "\n",
       "   Fuel_Type_Petrol  Seller_Type_Individual  Transmission_Manual  \n",
       "0              True                   False                 True  \n",
       "1             False                   False                 True  \n",
       "2              True                   False                 True  \n",
       "3              True                   False                 True  \n",
       "4             False                   False                 True  "
      ]
     },
     "execution_count": 21,
     "metadata": {},
     "output_type": "execute_result"
    }
   ],
   "source": [
    "X.head()"
   ]
  },
  {
   "cell_type": "code",
   "execution_count": 22,
   "id": "763734d8",
   "metadata": {
    "execution": {
     "iopub.execute_input": "2024-01-28T15:57:13.880887Z",
     "iopub.status.busy": "2024-01-28T15:57:13.880448Z",
     "iopub.status.idle": "2024-01-28T15:57:13.889904Z",
     "shell.execute_reply": "2024-01-28T15:57:13.888683Z"
    },
    "papermill": {
     "duration": 0.036589,
     "end_time": "2024-01-28T15:57:13.892364",
     "exception": false,
     "start_time": "2024-01-28T15:57:13.855775",
     "status": "completed"
    },
    "tags": []
   },
   "outputs": [
    {
     "data": {
      "text/plain": [
       "0    3.35\n",
       "1    4.75\n",
       "2    7.25\n",
       "3    2.85\n",
       "4    4.60\n",
       "Name: Selling_Price, dtype: float64"
      ]
     },
     "execution_count": 22,
     "metadata": {},
     "output_type": "execute_result"
    }
   ],
   "source": [
    "y.head()"
   ]
  },
  {
   "cell_type": "markdown",
   "id": "d34328fa",
   "metadata": {
    "papermill": {
     "duration": 0.022498,
     "end_time": "2024-01-28T15:57:13.938000",
     "exception": false,
     "start_time": "2024-01-28T15:57:13.915502",
     "status": "completed"
    },
    "tags": []
   },
   "source": [
    "### **Checking for Feature Importance**"
   ]
  },
  {
   "cell_type": "code",
   "execution_count": 23,
   "id": "e87192aa",
   "metadata": {
    "execution": {
     "iopub.execute_input": "2024-01-28T15:57:13.986224Z",
     "iopub.status.busy": "2024-01-28T15:57:13.985817Z",
     "iopub.status.idle": "2024-01-28T15:57:14.744562Z",
     "shell.execute_reply": "2024-01-28T15:57:14.743402Z"
    },
    "papermill": {
     "duration": 0.786257,
     "end_time": "2024-01-28T15:57:14.747842",
     "exception": false,
     "start_time": "2024-01-28T15:57:13.961585",
     "status": "completed"
    },
    "tags": []
   },
   "outputs": [
    {
     "data": {
      "text/html": [
       "<style>#sk-container-id-1 {color: black;background-color: white;}#sk-container-id-1 pre{padding: 0;}#sk-container-id-1 div.sk-toggleable {background-color: white;}#sk-container-id-1 label.sk-toggleable__label {cursor: pointer;display: block;width: 100%;margin-bottom: 0;padding: 0.3em;box-sizing: border-box;text-align: center;}#sk-container-id-1 label.sk-toggleable__label-arrow:before {content: \"▸\";float: left;margin-right: 0.25em;color: #696969;}#sk-container-id-1 label.sk-toggleable__label-arrow:hover:before {color: black;}#sk-container-id-1 div.sk-estimator:hover label.sk-toggleable__label-arrow:before {color: black;}#sk-container-id-1 div.sk-toggleable__content {max-height: 0;max-width: 0;overflow: hidden;text-align: left;background-color: #f0f8ff;}#sk-container-id-1 div.sk-toggleable__content pre {margin: 0.2em;color: black;border-radius: 0.25em;background-color: #f0f8ff;}#sk-container-id-1 input.sk-toggleable__control:checked~div.sk-toggleable__content {max-height: 200px;max-width: 100%;overflow: auto;}#sk-container-id-1 input.sk-toggleable__control:checked~label.sk-toggleable__label-arrow:before {content: \"▾\";}#sk-container-id-1 div.sk-estimator input.sk-toggleable__control:checked~label.sk-toggleable__label {background-color: #d4ebff;}#sk-container-id-1 div.sk-label input.sk-toggleable__control:checked~label.sk-toggleable__label {background-color: #d4ebff;}#sk-container-id-1 input.sk-hidden--visually {border: 0;clip: rect(1px 1px 1px 1px);clip: rect(1px, 1px, 1px, 1px);height: 1px;margin: -1px;overflow: hidden;padding: 0;position: absolute;width: 1px;}#sk-container-id-1 div.sk-estimator {font-family: monospace;background-color: #f0f8ff;border: 1px dotted black;border-radius: 0.25em;box-sizing: border-box;margin-bottom: 0.5em;}#sk-container-id-1 div.sk-estimator:hover {background-color: #d4ebff;}#sk-container-id-1 div.sk-parallel-item::after {content: \"\";width: 100%;border-bottom: 1px solid gray;flex-grow: 1;}#sk-container-id-1 div.sk-label:hover label.sk-toggleable__label {background-color: #d4ebff;}#sk-container-id-1 div.sk-serial::before {content: \"\";position: absolute;border-left: 1px solid gray;box-sizing: border-box;top: 0;bottom: 0;left: 50%;z-index: 0;}#sk-container-id-1 div.sk-serial {display: flex;flex-direction: column;align-items: center;background-color: white;padding-right: 0.2em;padding-left: 0.2em;position: relative;}#sk-container-id-1 div.sk-item {position: relative;z-index: 1;}#sk-container-id-1 div.sk-parallel {display: flex;align-items: stretch;justify-content: center;background-color: white;position: relative;}#sk-container-id-1 div.sk-item::before, #sk-container-id-1 div.sk-parallel-item::before {content: \"\";position: absolute;border-left: 1px solid gray;box-sizing: border-box;top: 0;bottom: 0;left: 50%;z-index: -1;}#sk-container-id-1 div.sk-parallel-item {display: flex;flex-direction: column;z-index: 1;position: relative;background-color: white;}#sk-container-id-1 div.sk-parallel-item:first-child::after {align-self: flex-end;width: 50%;}#sk-container-id-1 div.sk-parallel-item:last-child::after {align-self: flex-start;width: 50%;}#sk-container-id-1 div.sk-parallel-item:only-child::after {width: 0;}#sk-container-id-1 div.sk-dashed-wrapped {border: 1px dashed gray;margin: 0 0.4em 0.5em 0.4em;box-sizing: border-box;padding-bottom: 0.4em;background-color: white;}#sk-container-id-1 div.sk-label label {font-family: monospace;font-weight: bold;display: inline-block;line-height: 1.2em;}#sk-container-id-1 div.sk-label-container {text-align: center;}#sk-container-id-1 div.sk-container {/* jupyter's `normalize.less` sets `[hidden] { display: none; }` but bootstrap.min.css set `[hidden] { display: none !important; }` so we also need the `!important` here to be able to override the default hidden behavior on the sphinx rendered scikit-learn.org. See: https://github.com/scikit-learn/scikit-learn/issues/21755 */display: inline-block !important;position: relative;}#sk-container-id-1 div.sk-text-repr-fallback {display: none;}</style><div id=\"sk-container-id-1\" class=\"sk-top-container\"><div class=\"sk-text-repr-fallback\"><pre>ExtraTreesRegressor()</pre><b>In a Jupyter environment, please rerun this cell to show the HTML representation or trust the notebook. <br />On GitHub, the HTML representation is unable to render, please try loading this page with nbviewer.org.</b></div><div class=\"sk-container\" hidden><div class=\"sk-item\"><div class=\"sk-estimator sk-toggleable\"><input class=\"sk-toggleable__control sk-hidden--visually\" id=\"sk-estimator-id-1\" type=\"checkbox\" checked><label for=\"sk-estimator-id-1\" class=\"sk-toggleable__label sk-toggleable__label-arrow\">ExtraTreesRegressor</label><div class=\"sk-toggleable__content\"><pre>ExtraTreesRegressor()</pre></div></div></div></div></div>"
      ],
      "text/plain": [
       "ExtraTreesRegressor()"
      ]
     },
     "execution_count": 23,
     "metadata": {},
     "output_type": "execute_result"
    }
   ],
   "source": [
    "## Feature Importance \n",
    "from  sklearn.ensemble import ExtraTreesRegressor\n",
    "model = ExtraTreesRegressor()\n",
    "model.fit(X,y)"
   ]
  },
  {
   "cell_type": "code",
   "execution_count": 24,
   "id": "51efcf4e",
   "metadata": {
    "execution": {
     "iopub.execute_input": "2024-01-28T15:57:14.800886Z",
     "iopub.status.busy": "2024-01-28T15:57:14.800488Z",
     "iopub.status.idle": "2024-01-28T15:57:14.814541Z",
     "shell.execute_reply": "2024-01-28T15:57:14.813657Z"
    },
    "papermill": {
     "duration": 0.044598,
     "end_time": "2024-01-28T15:57:14.816874",
     "exception": false,
     "start_time": "2024-01-28T15:57:14.772276",
     "status": "completed"
    },
    "tags": []
   },
   "outputs": [
    {
     "name": "stdout",
     "output_type": "stream",
     "text": [
      "[0.38007551 0.04215565 0.00043459 0.07365521 0.22851056 0.00902271\n",
      " 0.12806128 0.13808447]\n"
     ]
    }
   ],
   "source": [
    "print(model.feature_importances_)"
   ]
  },
  {
   "cell_type": "code",
   "execution_count": 25,
   "id": "76fe1bd9",
   "metadata": {
    "execution": {
     "iopub.execute_input": "2024-01-28T15:57:14.866556Z",
     "iopub.status.busy": "2024-01-28T15:57:14.865836Z",
     "iopub.status.idle": "2024-01-28T15:57:15.147157Z",
     "shell.execute_reply": "2024-01-28T15:57:15.145862Z"
    },
    "papermill": {
     "duration": 0.309373,
     "end_time": "2024-01-28T15:57:15.150066",
     "exception": false,
     "start_time": "2024-01-28T15:57:14.840693",
     "status": "completed"
    },
    "tags": []
   },
   "outputs": [
    {
     "data": {
      "image/png": "[encoded data removed]",
      "text/plain": [
       "<Figure size 640x480 with 1 Axes>"
      ]
     },
     "metadata": {},
     "output_type": "display_data"
    }
   ],
   "source": [
    "# Plotting the top 5 important features available\n",
    "feature_importance =pd.Series(model.feature_importances_, index = X.columns)\n",
    "feature_importance.nlargest(5).plot(kind = 'barh')\n",
    "plt.show()"
   ]
  },
  {
   "cell_type": "code",
   "execution_count": 26,
   "id": "f06bbbba",
   "metadata": {
    "execution": {
     "iopub.execute_input": "2024-01-28T15:57:15.202353Z",
     "iopub.status.busy": "2024-01-28T15:57:15.201424Z",
     "iopub.status.idle": "2024-01-28T15:57:15.208811Z",
     "shell.execute_reply": "2024-01-28T15:57:15.207846Z"
    },
    "papermill": {
     "duration": 0.036168,
     "end_time": "2024-01-28T15:57:15.211163",
     "exception": false,
     "start_time": "2024-01-28T15:57:15.174995",
     "status": "completed"
    },
    "tags": []
   },
   "outputs": [],
   "source": [
    "from sklearn.model_selection import train_test_split\n",
    "\n",
    "x_train, x_test, y_train, y_test = train_test_split(X, y, test_size=0.2, random_state=10)"
   ]
  },
  {
   "cell_type": "code",
   "execution_count": 27,
   "id": "885f9c6c",
   "metadata": {
    "execution": {
     "iopub.execute_input": "2024-01-28T15:57:15.262008Z",
     "iopub.status.busy": "2024-01-28T15:57:15.261372Z",
     "iopub.status.idle": "2024-01-28T15:57:15.267428Z",
     "shell.execute_reply": "2024-01-28T15:57:15.266628Z"
    },
    "papermill": {
     "duration": 0.034113,
     "end_time": "2024-01-28T15:57:15.269582",
     "exception": false,
     "start_time": "2024-01-28T15:57:15.235469",
     "status": "completed"
    },
    "tags": []
   },
   "outputs": [
    {
     "data": {
      "text/plain": [
       "(240, 8)"
      ]
     },
     "execution_count": 27,
     "metadata": {},
     "output_type": "execute_result"
    }
   ],
   "source": [
    "x_train.shape"
   ]
  },
  {
   "cell_type": "code",
   "execution_count": 28,
   "id": "77b8b6a0",
   "metadata": {
    "execution": {
     "iopub.execute_input": "2024-01-28T15:57:15.322165Z",
     "iopub.status.busy": "2024-01-28T15:57:15.321527Z",
     "iopub.status.idle": "2024-01-28T15:57:15.327834Z",
     "shell.execute_reply": "2024-01-28T15:57:15.326690Z"
    },
    "papermill": {
     "duration": 0.035977,
     "end_time": "2024-01-28T15:57:15.330394",
     "exception": false,
     "start_time": "2024-01-28T15:57:15.294417",
     "status": "completed"
    },
    "tags": []
   },
   "outputs": [
    {
     "data": {
      "text/plain": [
       "(61, 8)"
      ]
     },
     "execution_count": 28,
     "metadata": {},
     "output_type": "execute_result"
    }
   ],
   "source": [
    "x_test.shape"
   ]
  },
  {
   "cell_type": "code",
   "execution_count": 29,
   "id": "e91dbe86",
   "metadata": {
    "execution": {
     "iopub.execute_input": "2024-01-28T15:57:15.381587Z",
     "iopub.status.busy": "2024-01-28T15:57:15.381132Z",
     "iopub.status.idle": "2024-01-28T15:57:15.388822Z",
     "shell.execute_reply": "2024-01-28T15:57:15.387636Z"
    },
    "papermill": {
     "duration": 0.036311,
     "end_time": "2024-01-28T15:57:15.391272",
     "exception": false,
     "start_time": "2024-01-28T15:57:15.354961",
     "status": "completed"
    },
    "tags": []
   },
   "outputs": [
    {
     "data": {
      "text/plain": [
       "(61,)"
      ]
     },
     "execution_count": 29,
     "metadata": {},
     "output_type": "execute_result"
    }
   ],
   "source": [
    "y_test.shape"
   ]
  },
  {
   "cell_type": "code",
   "execution_count": 30,
   "id": "8d3f2a6e",
   "metadata": {
    "execution": {
     "iopub.execute_input": "2024-01-28T15:57:15.443997Z",
     "iopub.status.busy": "2024-01-28T15:57:15.442601Z",
     "iopub.status.idle": "2024-01-28T15:57:15.450254Z",
     "shell.execute_reply": "2024-01-28T15:57:15.449133Z"
    },
    "papermill": {
     "duration": 0.036905,
     "end_time": "2024-01-28T15:57:15.452724",
     "exception": false,
     "start_time": "2024-01-28T15:57:15.415819",
     "status": "completed"
    },
    "tags": []
   },
   "outputs": [
    {
     "data": {
      "text/plain": [
       "(240,)"
      ]
     },
     "execution_count": 30,
     "metadata": {},
     "output_type": "execute_result"
    }
   ],
   "source": [
    "y_train.shape"
   ]
  },
  {
   "cell_type": "markdown",
   "id": "0f5d8c32",
   "metadata": {
    "papermill": {
     "duration": 0.025821,
     "end_time": "2024-01-28T15:57:15.503734",
     "exception": false,
     "start_time": "2024-01-28T15:57:15.477913",
     "status": "completed"
    },
    "tags": []
   },
   "source": [
    "### **Training the model - Linear Regression**"
   ]
  },
  {
   "cell_type": "code",
   "execution_count": 31,
   "id": "7112e09a",
   "metadata": {
    "execution": {
     "iopub.execute_input": "2024-01-28T15:57:15.566656Z",
     "iopub.status.busy": "2024-01-28T15:57:15.566119Z",
     "iopub.status.idle": "2024-01-28T15:57:15.615830Z",
     "shell.execute_reply": "2024-01-28T15:57:15.613234Z"
    },
    "papermill": {
     "duration": 0.088331,
     "end_time": "2024-01-28T15:57:15.619115",
     "exception": false,
     "start_time": "2024-01-28T15:57:15.530784",
     "status": "completed"
    },
    "tags": []
   },
   "outputs": [
    {
     "data": {
      "text/html": [
       "<style>#sk-container-id-2 {color: black;background-color: white;}#sk-container-id-2 pre{padding: 0;}#sk-container-id-2 div.sk-toggleable {background-color: white;}#sk-container-id-2 label.sk-toggleable__label {cursor: pointer;display: block;width: 100%;margin-bottom: 0;padding: 0.3em;box-sizing: border-box;text-align: center;}#sk-container-id-2 label.sk-toggleable__label-arrow:before {content: \"▸\";float: left;margin-right: 0.25em;color: #696969;}#sk-container-id-2 label.sk-toggleable__label-arrow:hover:before {color: black;}#sk-container-id-2 div.sk-estimator:hover label.sk-toggleable__label-arrow:before {color: black;}#sk-container-id-2 div.sk-toggleable__content {max-height: 0;max-width: 0;overflow: hidden;text-align: left;background-color: #f0f8ff;}#sk-container-id-2 div.sk-toggleable__content pre {margin: 0.2em;color: black;border-radius: 0.25em;background-color: #f0f8ff;}#sk-container-id-2 input.sk-toggleable__control:checked~div.sk-toggleable__content {max-height: 200px;max-width: 100%;overflow: auto;}#sk-container-id-2 input.sk-toggleable__control:checked~label.sk-toggleable__label-arrow:before {content: \"▾\";}#sk-container-id-2 div.sk-estimator input.sk-toggleable__control:checked~label.sk-toggleable__label {background-color: #d4ebff;}#sk-container-id-2 div.sk-label input.sk-toggleable__control:checked~label.sk-toggleable__label {background-color: #d4ebff;}#sk-container-id-2 input.sk-hidden--visually {border: 0;clip: rect(1px 1px 1px 1px);clip: rect(1px, 1px, 1px, 1px);height: 1px;margin: -1px;overflow: hidden;padding: 0;position: absolute;width: 1px;}#sk-container-id-2 div.sk-estimator {font-family: monospace;background-color: #f0f8ff;border: 1px dotted black;border-radius: 0.25em;box-sizing: border-box;margin-bottom: 0.5em;}#sk-container-id-2 div.sk-estimator:hover {background-color: #d4ebff;}#sk-container-id-2 div.sk-parallel-item::after {content: \"\";width: 100%;border-bottom: 1px solid gray;flex-grow: 1;}#sk-container-id-2 div.sk-label:hover label.sk-toggleable__label {background-color: #d4ebff;}#sk-container-id-2 div.sk-serial::before {content: \"\";position: absolute;border-left: 1px solid gray;box-sizing: border-box;top: 0;bottom: 0;left: 50%;z-index: 0;}#sk-container-id-2 div.sk-serial {display: flex;flex-direction: column;align-items: center;background-color: white;padding-right: 0.2em;padding-left: 0.2em;position: relative;}#sk-container-id-2 div.sk-item {position: relative;z-index: 1;}#sk-container-id-2 div.sk-parallel {display: flex;align-items: stretch;justify-content: center;background-color: white;position: relative;}#sk-container-id-2 div.sk-item::before, #sk-container-id-2 div.sk-parallel-item::before {content: \"\";position: absolute;border-left: 1px solid gray;box-sizing: border-box;top: 0;bottom: 0;left: 50%;z-index: -1;}#sk-container-id-2 div.sk-parallel-item {display: flex;flex-direction: column;z-index: 1;position: relative;background-color: white;}#sk-container-id-2 div.sk-parallel-item:first-child::after {align-self: flex-end;width: 50%;}#sk-container-id-2 div.sk-parallel-item:last-child::after {align-self: flex-start;width: 50%;}#sk-container-id-2 div.sk-parallel-item:only-child::after {width: 0;}#sk-container-id-2 div.sk-dashed-wrapped {border: 1px dashed gray;margin: 0 0.4em 0.5em 0.4em;box-sizing: border-box;padding-bottom: 0.4em;background-color: white;}#sk-container-id-2 div.sk-label label {font-family: monospace;font-weight: bold;display: inline-block;line-height: 1.2em;}#sk-container-id-2 div.sk-label-container {text-align: center;}#sk-container-id-2 div.sk-container {/* jupyter's `normalize.less` sets `[hidden] { display: none; }` but bootstrap.min.css set `[hidden] { display: none !important; }` so we also need the `!important` here to be able to override the default hidden behavior on the sphinx rendered scikit-learn.org. See: https://github.com/scikit-learn/scikit-learn/issues/21755 */display: inline-block !important;position: relative;}#sk-container-id-2 div.sk-text-repr-fallback {display: none;}</style><div id=\"sk-container-id-2\" class=\"sk-top-container\"><div class=\"sk-text-repr-fallback\"><pre>LinearRegression()</pre><b>In a Jupyter environment, please rerun this cell to show the HTML representation or trust the notebook. <br />On GitHub, the HTML representation is unable to render, please try loading this page with nbviewer.org.</b></div><div class=\"sk-container\" hidden><div class=\"sk-item\"><div class=\"sk-estimator sk-toggleable\"><input class=\"sk-toggleable__control sk-hidden--visually\" id=\"sk-estimator-id-2\" type=\"checkbox\" checked><label for=\"sk-estimator-id-2\" class=\"sk-toggleable__label sk-toggleable__label-arrow\">LinearRegression</label><div class=\"sk-toggleable__content\"><pre>LinearRegression()</pre></div></div></div></div></div>"
      ],
      "text/plain": [
       "LinearRegression()"
      ]
     },
     "execution_count": 31,
     "metadata": {},
     "output_type": "execute_result"
    }
   ],
   "source": [
    "from sklearn.linear_model import LinearRegression\n",
    "\n",
    "linr = LinearRegression()\n",
    "\n",
    "linr.fit(x_train, y_train)"
   ]
  },
  {
   "cell_type": "code",
   "execution_count": 32,
   "id": "45892e79",
   "metadata": {
    "execution": {
     "iopub.execute_input": "2024-01-28T15:57:15.697715Z",
     "iopub.status.busy": "2024-01-28T15:57:15.696715Z",
     "iopub.status.idle": "2024-01-28T15:57:15.705581Z",
     "shell.execute_reply": "2024-01-28T15:57:15.704083Z"
    },
    "papermill": {
     "duration": 0.049139,
     "end_time": "2024-01-28T15:57:15.708681",
     "exception": false,
     "start_time": "2024-01-28T15:57:15.659542",
     "status": "completed"
    },
    "tags": []
   },
   "outputs": [],
   "source": [
    "# Predicting values for x_test\n",
    "y_pred = linr.predict(x_test)"
   ]
  },
  {
   "cell_type": "code",
   "execution_count": 33,
   "id": "3f3efec9",
   "metadata": {
    "execution": {
     "iopub.execute_input": "2024-01-28T15:57:15.771339Z",
     "iopub.status.busy": "2024-01-28T15:57:15.770883Z",
     "iopub.status.idle": "2024-01-28T15:57:15.778328Z",
     "shell.execute_reply": "2024-01-28T15:57:15.777161Z"
    },
    "papermill": {
     "duration": 0.038894,
     "end_time": "2024-01-28T15:57:15.780854",
     "exception": false,
     "start_time": "2024-01-28T15:57:15.741960",
     "status": "completed"
    },
    "tags": []
   },
   "outputs": [
    {
     "data": {
      "text/plain": [
       "array([ 7.78311122,  0.80492133,  1.88830514,  2.05092328,  5.25115027,\n",
       "        6.80264993, 19.67617202, -3.31906928,  1.01503656,  4.40955539])"
      ]
     },
     "execution_count": 33,
     "metadata": {},
     "output_type": "execute_result"
    }
   ],
   "source": [
    "# printing out top 10 predicted values\n",
    "y_pred[:10]"
   ]
  },
  {
   "cell_type": "code",
   "execution_count": 34,
   "id": "50f15a29",
   "metadata": {
    "execution": {
     "iopub.execute_input": "2024-01-28T15:57:15.835512Z",
     "iopub.status.busy": "2024-01-28T15:57:15.834780Z",
     "iopub.status.idle": "2024-01-28T15:57:15.841256Z",
     "shell.execute_reply": "2024-01-28T15:57:15.840128Z"
    },
    "papermill": {
     "duration": 0.035955,
     "end_time": "2024-01-28T15:57:15.843728",
     "exception": false,
     "start_time": "2024-01-28T15:57:15.807773",
     "status": "completed"
    },
    "tags": []
   },
   "outputs": [
    {
     "name": "stdout",
     "output_type": "stream",
     "text": [
      "[8.4, 0.5, 2.55, 0.9, 4.8, 4.75, 19.99, 0.2, 0.75, 3.9] "
     ]
    }
   ],
   "source": [
    "# Verfying the test values with above predicted values\n",
    "print(list(y_test[:10]), end = \" \")"
   ]
  },
  {
   "cell_type": "code",
   "execution_count": 35,
   "id": "101b80d5",
   "metadata": {
    "execution": {
     "iopub.execute_input": "2024-01-28T15:57:15.898747Z",
     "iopub.status.busy": "2024-01-28T15:57:15.897733Z",
     "iopub.status.idle": "2024-01-28T15:57:15.905972Z",
     "shell.execute_reply": "2024-01-28T15:57:15.904690Z"
    },
    "papermill": {
     "duration": 0.039442,
     "end_time": "2024-01-28T15:57:15.908828",
     "exception": false,
     "start_time": "2024-01-28T15:57:15.869386",
     "status": "completed"
    },
    "tags": []
   },
   "outputs": [
    {
     "name": "stdout",
     "output_type": "stream",
     "text": [
      "5.075348220392675\n"
     ]
    }
   ],
   "source": [
    "from sklearn.metrics import mean_squared_error\n",
    "\n",
    "print(mean_squared_error(y_test, y_pred))"
   ]
  },
  {
   "cell_type": "code",
   "execution_count": 36,
   "id": "7b7725bb",
   "metadata": {
    "execution": {
     "iopub.execute_input": "2024-01-28T15:57:15.965056Z",
     "iopub.status.busy": "2024-01-28T15:57:15.964090Z",
     "iopub.status.idle": "2024-01-28T15:57:15.977866Z",
     "shell.execute_reply": "2024-01-28T15:57:15.976754Z"
    },
    "papermill": {
     "duration": 0.044797,
     "end_time": "2024-01-28T15:57:15.980413",
     "exception": false,
     "start_time": "2024-01-28T15:57:15.935616",
     "status": "completed"
    },
    "tags": []
   },
   "outputs": [
    {
     "name": "stdout",
     "output_type": "stream",
     "text": [
      "MSE----> 5.075348220392675\n",
      "RMSE---> 2.2528533508403683\n"
     ]
    }
   ],
   "source": [
    "from sklearn import metrics\n",
    "print('MSE---->', metrics.mean_squared_error(y_test, y_pred))\n",
    "print('RMSE--->', np.sqrt(metrics.mean_squared_error(y_test, y_pred)))"
   ]
  },
  {
   "cell_type": "code",
   "execution_count": 37,
   "id": "aa98c7d8",
   "metadata": {
    "execution": {
     "iopub.execute_input": "2024-01-28T15:57:16.040005Z",
     "iopub.status.busy": "2024-01-28T15:57:16.038814Z",
     "iopub.status.idle": "2024-01-28T15:57:16.047364Z",
     "shell.execute_reply": "2024-01-28T15:57:16.046019Z"
    },
    "papermill": {
     "duration": 0.043041,
     "end_time": "2024-01-28T15:57:16.050731",
     "exception": false,
     "start_time": "2024-01-28T15:57:16.007690",
     "status": "completed"
    },
    "tags": []
   },
   "outputs": [
    {
     "name": "stdout",
     "output_type": "stream",
     "text": [
      "0.8436773164235075\n"
     ]
    }
   ],
   "source": [
    "from sklearn.metrics import r2_score, adjusted_rand_score\n",
    "\n",
    "print(r2_score(y_test, y_pred))"
   ]
  },
  {
   "cell_type": "code",
   "execution_count": 38,
   "id": "3d4c4e96",
   "metadata": {
    "execution": {
     "iopub.execute_input": "2024-01-28T15:57:16.124999Z",
     "iopub.status.busy": "2024-01-28T15:57:16.123919Z",
     "iopub.status.idle": "2024-01-28T15:57:16.505432Z",
     "shell.execute_reply": "2024-01-28T15:57:16.504219Z"
    },
    "papermill": {
     "duration": 0.419855,
     "end_time": "2024-01-28T15:57:16.508361",
     "exception": false,
     "start_time": "2024-01-28T15:57:16.088506",
     "status": "completed"
    },
    "tags": []
   },
   "outputs": [
    {
     "data": {
      "text/plain": [
       "<Axes: xlabel='Selling_Price', ylabel='Density'>"
      ]
     },
     "execution_count": 38,
     "metadata": {},
     "output_type": "execute_result"
    },
    {
     "data": {
      "image/png": "[encoded data removed]",
      "text/plain": [
       "<Figure size 640x480 with 1 Axes>"
      ]
     },
     "metadata": {},
     "output_type": "display_data"
    }
   ],
   "source": [
    "sns.kdeplot(y_test - y_pred)"
   ]
  },
  {
   "cell_type": "code",
   "execution_count": 39,
   "id": "fdcca26b",
   "metadata": {
    "execution": {
     "iopub.execute_input": "2024-01-28T15:57:16.577023Z",
     "iopub.status.busy": "2024-01-28T15:57:16.575948Z",
     "iopub.status.idle": "2024-01-28T15:57:16.880135Z",
     "shell.execute_reply": "2024-01-28T15:57:16.878972Z"
    },
    "papermill": {
     "duration": 0.340619,
     "end_time": "2024-01-28T15:57:16.882690",
     "exception": false,
     "start_time": "2024-01-28T15:57:16.542071",
     "status": "completed"
    },
    "tags": []
   },
   "outputs": [
    {
     "data": {
      "text/plain": [
       "<matplotlib.collections.PathCollection at 0x7e5961285360>"
      ]
     },
     "execution_count": 39,
     "metadata": {},
     "output_type": "execute_result"
    },
    {
     "data": {
      "image/png": "[encoded data removed]",
      "text/plain": [
       "<Figure size 640x480 with 1 Axes>"
      ]
     },
     "metadata": {},
     "output_type": "display_data"
    }
   ],
   "source": [
    "plt.scatter(y_test, y_pred) "
   ]
  },
  {
   "cell_type": "code",
   "execution_count": 40,
   "id": "5cb61813",
   "metadata": {
    "execution": {
     "iopub.execute_input": "2024-01-28T15:57:16.938284Z",
     "iopub.status.busy": "2024-01-28T15:57:16.937844Z",
     "iopub.status.idle": "2024-01-28T15:57:17.228381Z",
     "shell.execute_reply": "2024-01-28T15:57:17.227117Z"
    },
    "papermill": {
     "duration": 0.32144,
     "end_time": "2024-01-28T15:57:17.230974",
     "exception": false,
     "start_time": "2024-01-28T15:57:16.909534",
     "status": "completed"
    },
    "tags": []
   },
   "outputs": [
    {
     "data": {
      "image/png": "[encoded data removed]",
      "text/plain": [
       "<Figure size 640x480 with 1 Axes>"
      ]
     },
     "metadata": {},
     "output_type": "display_data"
    }
   ],
   "source": [
    "plt.plot(x_test[20:40], y_test[20:40], '.', color = 'green')\n",
    "plt.plot(x_test[20:40], y_pred[20:40], '+', color = 'red')\n",
    "plt.show()\n",
    "# Red + represents Predicted values\n",
    "# Green . represents Test values"
   ]
  },
  {
   "cell_type": "markdown",
   "id": "e57d6154",
   "metadata": {
    "papermill": {
     "duration": 0.026922,
     "end_time": "2024-01-28T15:57:17.285097",
     "exception": false,
     "start_time": "2024-01-28T15:57:17.258175",
     "status": "completed"
    },
    "tags": []
   },
   "source": [
    "------"
   ]
  },
  {
   "cell_type": "markdown",
   "id": "1208def8",
   "metadata": {
    "papermill": {
     "duration": 0.026956,
     "end_time": "2024-01-28T15:57:17.339207",
     "exception": false,
     "start_time": "2024-01-28T15:57:17.312251",
     "status": "completed"
    },
    "tags": []
   },
   "source": [
    "### **Training the model - Random Forest**"
   ]
  },
  {
   "cell_type": "code",
   "execution_count": 41,
   "id": "bc7af30f",
   "metadata": {
    "execution": {
     "iopub.execute_input": "2024-01-28T15:57:17.395656Z",
     "iopub.status.busy": "2024-01-28T15:57:17.395225Z",
     "iopub.status.idle": "2024-01-28T15:57:17.400155Z",
     "shell.execute_reply": "2024-01-28T15:57:17.399037Z"
    },
    "papermill": {
     "duration": 0.036153,
     "end_time": "2024-01-28T15:57:17.402604",
     "exception": false,
     "start_time": "2024-01-28T15:57:17.366451",
     "status": "completed"
    },
    "tags": []
   },
   "outputs": [],
   "source": [
    "from sklearn.ensemble import RandomForestRegressor\n",
    "\n",
    "rnd = RandomForestRegressor()"
   ]
  },
  {
   "cell_type": "code",
   "execution_count": 42,
   "id": "cb98e81d",
   "metadata": {
    "execution": {
     "iopub.execute_input": "2024-01-28T15:57:17.458529Z",
     "iopub.status.busy": "2024-01-28T15:57:17.457729Z",
     "iopub.status.idle": "2024-01-28T15:57:17.692798Z",
     "shell.execute_reply": "2024-01-28T15:57:17.691668Z"
    },
    "papermill": {
     "duration": 0.265905,
     "end_time": "2024-01-28T15:57:17.695290",
     "exception": false,
     "start_time": "2024-01-28T15:57:17.429385",
     "status": "completed"
    },
    "tags": []
   },
   "outputs": [
    {
     "data": {
      "text/html": [
       "<style>#sk-container-id-3 {color: black;background-color: white;}#sk-container-id-3 pre{padding: 0;}#sk-container-id-3 div.sk-toggleable {background-color: white;}#sk-container-id-3 label.sk-toggleable__label {cursor: pointer;display: block;width: 100%;margin-bottom: 0;padding: 0.3em;box-sizing: border-box;text-align: center;}#sk-container-id-3 label.sk-toggleable__label-arrow:before {content: \"▸\";float: left;margin-right: 0.25em;color: #696969;}#sk-container-id-3 label.sk-toggleable__label-arrow:hover:before {color: black;}#sk-container-id-3 div.sk-estimator:hover label.sk-toggleable__label-arrow:before {color: black;}#sk-container-id-3 div.sk-toggleable__content {max-height: 0;max-width: 0;overflow: hidden;text-align: left;background-color: #f0f8ff;}#sk-container-id-3 div.sk-toggleable__content pre {margin: 0.2em;color: black;border-radius: 0.25em;background-color: #f0f8ff;}#sk-container-id-3 input.sk-toggleable__control:checked~div.sk-toggleable__content {max-height: 200px;max-width: 100%;overflow: auto;}#sk-container-id-3 input.sk-toggleable__control:checked~label.sk-toggleable__label-arrow:before {content: \"▾\";}#sk-container-id-3 div.sk-estimator input.sk-toggleable__control:checked~label.sk-toggleable__label {background-color: #d4ebff;}#sk-container-id-3 div.sk-label input.sk-toggleable__control:checked~label.sk-toggleable__label {background-color: #d4ebff;}#sk-container-id-3 input.sk-hidden--visually {border: 0;clip: rect(1px 1px 1px 1px);clip: rect(1px, 1px, 1px, 1px);height: 1px;margin: -1px;overflow: hidden;padding: 0;position: absolute;width: 1px;}#sk-container-id-3 div.sk-estimator {font-family: monospace;background-color: #f0f8ff;border: 1px dotted black;border-radius: 0.25em;box-sizing: border-box;margin-bottom: 0.5em;}#sk-container-id-3 div.sk-estimator:hover {background-color: #d4ebff;}#sk-container-id-3 div.sk-parallel-item::after {content: \"\";width: 100%;border-bottom: 1px solid gray;flex-grow: 1;}#sk-container-id-3 div.sk-label:hover label.sk-toggleable__label {background-color: #d4ebff;}#sk-container-id-3 div.sk-serial::before {content: \"\";position: absolute;border-left: 1px solid gray;box-sizing: border-box;top: 0;bottom: 0;left: 50%;z-index: 0;}#sk-container-id-3 div.sk-serial {display: flex;flex-direction: column;align-items: center;background-color: white;padding-right: 0.2em;padding-left: 0.2em;position: relative;}#sk-container-id-3 div.sk-item {position: relative;z-index: 1;}#sk-container-id-3 div.sk-parallel {display: flex;align-items: stretch;justify-content: center;background-color: white;position: relative;}#sk-container-id-3 div.sk-item::before, #sk-container-id-3 div.sk-parallel-item::before {content: \"\";position: absolute;border-left: 1px solid gray;box-sizing: border-box;top: 0;bottom: 0;left: 50%;z-index: -1;}#sk-container-id-3 div.sk-parallel-item {display: flex;flex-direction: column;z-index: 1;position: relative;background-color: white;}#sk-container-id-3 div.sk-parallel-item:first-child::after {align-self: flex-end;width: 50%;}#sk-container-id-3 div.sk-parallel-item:last-child::after {align-self: flex-start;width: 50%;}#sk-container-id-3 div.sk-parallel-item:only-child::after {width: 0;}#sk-container-id-3 div.sk-dashed-wrapped {border: 1px dashed gray;margin: 0 0.4em 0.5em 0.4em;box-sizing: border-box;padding-bottom: 0.4em;background-color: white;}#sk-container-id-3 div.sk-label label {font-family: monospace;font-weight: bold;display: inline-block;line-height: 1.2em;}#sk-container-id-3 div.sk-label-container {text-align: center;}#sk-container-id-3 div.sk-container {/* jupyter's `normalize.less` sets `[hidden] { display: none; }` but bootstrap.min.css set `[hidden] { display: none !important; }` so we also need the `!important` here to be able to override the default hidden behavior on the sphinx rendered scikit-learn.org. See: https://github.com/scikit-learn/scikit-learn/issues/21755 */display: inline-block !important;position: relative;}#sk-container-id-3 div.sk-text-repr-fallback {display: none;}</style><div id=\"sk-container-id-3\" class=\"sk-top-container\"><div class=\"sk-text-repr-fallback\"><pre>RandomForestRegressor()</pre><b>In a Jupyter environment, please rerun this cell to show the HTML representation or trust the notebook. <br />On GitHub, the HTML representation is unable to render, please try loading this page with nbviewer.org.</b></div><div class=\"sk-container\" hidden><div class=\"sk-item\"><div class=\"sk-estimator sk-toggleable\"><input class=\"sk-toggleable__control sk-hidden--visually\" id=\"sk-estimator-id-3\" type=\"checkbox\" checked><label for=\"sk-estimator-id-3\" class=\"sk-toggleable__label sk-toggleable__label-arrow\">RandomForestRegressor</label><div class=\"sk-toggleable__content\"><pre>RandomForestRegressor()</pre></div></div></div></div></div>"
      ],
      "text/plain": [
       "RandomForestRegressor()"
      ]
     },
     "execution_count": 42,
     "metadata": {},
     "output_type": "execute_result"
    }
   ],
   "source": [
    "rnd.fit(x_train, y_train)"
   ]
  },
  {
   "cell_type": "code",
   "execution_count": 43,
   "id": "2f08264e",
   "metadata": {
    "execution": {
     "iopub.execute_input": "2024-01-28T15:57:17.751440Z",
     "iopub.status.busy": "2024-01-28T15:57:17.750779Z",
     "iopub.status.idle": "2024-01-28T15:57:17.763804Z",
     "shell.execute_reply": "2024-01-28T15:57:17.762955Z"
    },
    "papermill": {
     "duration": 0.043985,
     "end_time": "2024-01-28T15:57:17.766289",
     "exception": false,
     "start_time": "2024-01-28T15:57:17.722304",
     "status": "completed"
    },
    "tags": []
   },
   "outputs": [],
   "source": [
    "y_pred = rnd.predict(x_test)"
   ]
  },
  {
   "cell_type": "code",
   "execution_count": 44,
   "id": "66caa077",
   "metadata": {
    "execution": {
     "iopub.execute_input": "2024-01-28T15:57:17.822289Z",
     "iopub.status.busy": "2024-01-28T15:57:17.821639Z",
     "iopub.status.idle": "2024-01-28T15:57:17.828844Z",
     "shell.execute_reply": "2024-01-28T15:57:17.827706Z"
    },
    "papermill": {
     "duration": 0.038019,
     "end_time": "2024-01-28T15:57:17.831213",
     "exception": false,
     "start_time": "2024-01-28T15:57:17.793194",
     "status": "completed"
    },
    "tags": []
   },
   "outputs": [
    {
     "data": {
      "text/plain": [
       "array([ 9.1595,  0.6812,  2.5125,  0.7621,  5.179 ,  5.8411, 21.425 ,\n",
       "        0.169 ,  0.574 ,  4.1255])"
      ]
     },
     "execution_count": 44,
     "metadata": {},
     "output_type": "execute_result"
    }
   ],
   "source": [
    "y_pred[:10]"
   ]
  },
  {
   "cell_type": "code",
   "execution_count": 45,
   "id": "f653e8a9",
   "metadata": {
    "execution": {
     "iopub.execute_input": "2024-01-28T15:57:17.887586Z",
     "iopub.status.busy": "2024-01-28T15:57:17.886918Z",
     "iopub.status.idle": "2024-01-28T15:57:17.893980Z",
     "shell.execute_reply": "2024-01-28T15:57:17.892917Z"
    },
    "papermill": {
     "duration": 0.038024,
     "end_time": "2024-01-28T15:57:17.896566",
     "exception": false,
     "start_time": "2024-01-28T15:57:17.858542",
     "status": "completed"
    },
    "tags": []
   },
   "outputs": [
    {
     "data": {
      "text/plain": [
       "[8.4, 0.5, 2.55, 0.9, 4.8, 4.75, 19.99, 0.2, 0.75, 3.9]"
      ]
     },
     "execution_count": 45,
     "metadata": {},
     "output_type": "execute_result"
    }
   ],
   "source": [
    "list(y_test[:10])"
   ]
  },
  {
   "cell_type": "code",
   "execution_count": 46,
   "id": "203ec3ba",
   "metadata": {
    "execution": {
     "iopub.execute_input": "2024-01-28T15:57:17.953494Z",
     "iopub.status.busy": "2024-01-28T15:57:17.953070Z",
     "iopub.status.idle": "2024-01-28T15:57:17.959886Z",
     "shell.execute_reply": "2024-01-28T15:57:17.959120Z"
    },
    "papermill": {
     "duration": 0.037637,
     "end_time": "2024-01-28T15:57:17.961940",
     "exception": false,
     "start_time": "2024-01-28T15:57:17.924303",
     "status": "completed"
    },
    "tags": []
   },
   "outputs": [
    {
     "name": "stdout",
     "output_type": "stream",
     "text": [
      "MSE----> 2.4451813562295084\n",
      "RMSE---> 1.563707567363383\n"
     ]
    }
   ],
   "source": [
    "from sklearn import metrics\n",
    "print('MSE---->', metrics.mean_squared_error(y_test, y_pred))\n",
    "print('RMSE--->', np.sqrt(metrics.mean_squared_error(y_test, y_pred)))"
   ]
  },
  {
   "cell_type": "code",
   "execution_count": 47,
   "id": "74f071c3",
   "metadata": {
    "execution": {
     "iopub.execute_input": "2024-01-28T15:57:18.020123Z",
     "iopub.status.busy": "2024-01-28T15:57:18.019689Z",
     "iopub.status.idle": "2024-01-28T15:57:18.378107Z",
     "shell.execute_reply": "2024-01-28T15:57:18.376708Z"
    },
    "papermill": {
     "duration": 0.391427,
     "end_time": "2024-01-28T15:57:18.380654",
     "exception": false,
     "start_time": "2024-01-28T15:57:17.989227",
     "status": "completed"
    },
    "tags": []
   },
   "outputs": [
    {
     "data": {
      "text/plain": [
       "<Axes: xlabel='Selling_Price', ylabel='Density'>"
      ]
     },
     "execution_count": 47,
     "metadata": {},
     "output_type": "execute_result"
    },
    {
     "data": {
      "image/png": "[encoded data removed]",
      "text/plain": [
       "<Figure size 640x480 with 1 Axes>"
      ]
     },
     "metadata": {},
     "output_type": "display_data"
    }
   ],
   "source": [
    "sns.kdeplot(y_test - y_pred)"
   ]
  },
  {
   "cell_type": "code",
   "execution_count": 48,
   "id": "6c2f2c83",
   "metadata": {
    "execution": {
     "iopub.execute_input": "2024-01-28T15:57:18.439542Z",
     "iopub.status.busy": "2024-01-28T15:57:18.439099Z",
     "iopub.status.idle": "2024-01-28T15:57:18.723933Z",
     "shell.execute_reply": "2024-01-28T15:57:18.722656Z"
    },
    "papermill": {
     "duration": 0.317669,
     "end_time": "2024-01-28T15:57:18.726508",
     "exception": false,
     "start_time": "2024-01-28T15:57:18.408839",
     "status": "completed"
    },
    "tags": []
   },
   "outputs": [
    {
     "data": {
      "text/plain": [
       "<matplotlib.collections.PathCollection at 0x7e5973303fa0>"
      ]
     },
     "execution_count": 48,
     "metadata": {},
     "output_type": "execute_result"
    },
    {
     "data": {
      "image/png": "[encoded data removed]",
      "text/plain": [
       "<Figure size 640x480 with 1 Axes>"
      ]
     },
     "metadata": {},
     "output_type": "display_data"
    }
   ],
   "source": [
    "plt.scatter(y_test, y_pred) "
   ]
  },
  {
   "cell_type": "code",
   "execution_count": 49,
   "id": "60e57523",
   "metadata": {
    "execution": {
     "iopub.execute_input": "2024-01-28T15:57:18.787392Z",
     "iopub.status.busy": "2024-01-28T15:57:18.786171Z",
     "iopub.status.idle": "2024-01-28T15:57:19.038318Z",
     "shell.execute_reply": "2024-01-28T15:57:19.037112Z"
    },
    "papermill": {
     "duration": 0.285757,
     "end_time": "2024-01-28T15:57:19.041409",
     "exception": false,
     "start_time": "2024-01-28T15:57:18.755652",
     "status": "completed"
    },
    "tags": []
   },
   "outputs": [
    {
     "data": {
      "image/png": "[encoded data removed]",
      "text/plain": [
       "<Figure size 640x480 with 1 Axes>"
      ]
     },
     "metadata": {},
     "output_type": "display_data"
    }
   ],
   "source": [
    "plt.plot(x_test[10:20], y_test[10:20], '.', color = 'green')\n",
    "plt.plot(x_test[10:20], y_pred[10:20], '+', color = 'red')\n",
    "plt.show()"
   ]
  },
  {
   "cell_type": "code",
   "execution_count": 50,
   "id": "d27a5f51",
   "metadata": {
    "execution": {
     "iopub.execute_input": "2024-01-28T15:57:19.103252Z",
     "iopub.status.busy": "2024-01-28T15:57:19.102255Z",
     "iopub.status.idle": "2024-01-28T15:57:19.118526Z",
     "shell.execute_reply": "2024-01-28T15:57:19.117378Z"
    },
    "papermill": {
     "duration": 0.049205,
     "end_time": "2024-01-28T15:57:19.120833",
     "exception": false,
     "start_time": "2024-01-28T15:57:19.071628",
     "status": "completed"
    },
    "tags": []
   },
   "outputs": [
    {
     "data": {
      "text/html": [
       "<div>\n",
       "<style scoped>\n",
       "    .dataframe tbody tr th:only-of-type {\n",
       "        vertical-align: middle;\n",
       "    }\n",
       "\n",
       "    .dataframe tbody tr th {\n",
       "        vertical-align: top;\n",
       "    }\n",
       "\n",
       "    .dataframe thead th {\n",
       "        text-align: right;\n",
       "    }\n",
       "</style>\n",
       "<table border=\"1\" class=\"dataframe\">\n",
       "  <thead>\n",
       "    <tr style=\"text-align: right;\">\n",
       "      <th></th>\n",
       "      <th>Selling_Price</th>\n",
       "      <th>Present_Price</th>\n",
       "      <th>Kms_Driven</th>\n",
       "      <th>Owner</th>\n",
       "      <th>No_of_Years</th>\n",
       "      <th>Fuel_Type_Diesel</th>\n",
       "      <th>Fuel_Type_Petrol</th>\n",
       "      <th>Seller_Type_Individual</th>\n",
       "      <th>Transmission_Manual</th>\n",
       "    </tr>\n",
       "  </thead>\n",
       "  <tbody>\n",
       "    <tr>\n",
       "      <th>0</th>\n",
       "      <td>3.35</td>\n",
       "      <td>5.59</td>\n",
       "      <td>27000</td>\n",
       "      <td>0</td>\n",
       "      <td>10</td>\n",
       "      <td>False</td>\n",
       "      <td>True</td>\n",
       "      <td>False</td>\n",
       "      <td>True</td>\n",
       "    </tr>\n",
       "    <tr>\n",
       "      <th>1</th>\n",
       "      <td>4.75</td>\n",
       "      <td>9.54</td>\n",
       "      <td>43000</td>\n",
       "      <td>0</td>\n",
       "      <td>11</td>\n",
       "      <td>True</td>\n",
       "      <td>False</td>\n",
       "      <td>False</td>\n",
       "      <td>True</td>\n",
       "    </tr>\n",
       "    <tr>\n",
       "      <th>2</th>\n",
       "      <td>7.25</td>\n",
       "      <td>9.85</td>\n",
       "      <td>6900</td>\n",
       "      <td>0</td>\n",
       "      <td>7</td>\n",
       "      <td>False</td>\n",
       "      <td>True</td>\n",
       "      <td>False</td>\n",
       "      <td>True</td>\n",
       "    </tr>\n",
       "    <tr>\n",
       "      <th>3</th>\n",
       "      <td>2.85</td>\n",
       "      <td>4.15</td>\n",
       "      <td>5200</td>\n",
       "      <td>0</td>\n",
       "      <td>13</td>\n",
       "      <td>False</td>\n",
       "      <td>True</td>\n",
       "      <td>False</td>\n",
       "      <td>True</td>\n",
       "    </tr>\n",
       "    <tr>\n",
       "      <th>4</th>\n",
       "      <td>4.60</td>\n",
       "      <td>6.87</td>\n",
       "      <td>42450</td>\n",
       "      <td>0</td>\n",
       "      <td>10</td>\n",
       "      <td>True</td>\n",
       "      <td>False</td>\n",
       "      <td>False</td>\n",
       "      <td>True</td>\n",
       "    </tr>\n",
       "  </tbody>\n",
       "</table>\n",
       "</div>"
      ],
      "text/plain": [
       "   Selling_Price  Present_Price  Kms_Driven  Owner  No_of_Years  \\\n",
       "0           3.35           5.59       27000      0           10   \n",
       "1           4.75           9.54       43000      0           11   \n",
       "2           7.25           9.85        6900      0            7   \n",
       "3           2.85           4.15        5200      0           13   \n",
       "4           4.60           6.87       42450      0           10   \n",
       "\n",
       "   Fuel_Type_Diesel  Fuel_Type_Petrol  Seller_Type_Individual  \\\n",
       "0             False              True                   False   \n",
       "1              True             False                   False   \n",
       "2             False              True                   False   \n",
       "3             False              True                   False   \n",
       "4              True             False                   False   \n",
       "\n",
       "   Transmission_Manual  \n",
       "0                 True  \n",
       "1                 True  \n",
       "2                 True  \n",
       "3                 True  \n",
       "4                 True  "
      ]
     },
     "execution_count": 50,
     "metadata": {},
     "output_type": "execute_result"
    }
   ],
   "source": [
    "df1.head()"
   ]
  },
  {
   "cell_type": "code",
   "execution_count": 51,
   "id": "c9c5d897",
   "metadata": {
    "execution": {
     "iopub.execute_input": "2024-01-28T15:57:19.182972Z",
     "iopub.status.busy": "2024-01-28T15:57:19.182550Z",
     "iopub.status.idle": "2024-01-28T15:57:19.204065Z",
     "shell.execute_reply": "2024-01-28T15:57:19.202768Z"
    },
    "papermill": {
     "duration": 0.055641,
     "end_time": "2024-01-28T15:57:19.206617",
     "exception": false,
     "start_time": "2024-01-28T15:57:19.150976",
     "status": "completed"
    },
    "tags": []
   },
   "outputs": [
    {
     "name": "stdout",
     "output_type": "stream",
     "text": [
      "The actual cost of car is   Selling_Price\n",
      "0           3.35, and predicted value of the same is [3.92678477] using Linear Regression\n",
      "The actual cost of car is   Selling_Price\n",
      "0           3.35, and predicted value of the same is [3.8135] using Random Forest\n"
     ]
    },
    {
     "name": "stderr",
     "output_type": "stream",
     "text": [
      "/opt/conda/lib/python3.10/site-packages/sklearn/base.py:439: UserWarning: X does not have valid feature names, but LinearRegression was fitted with feature names\n",
      "  warnings.warn(\n",
      "/opt/conda/lib/python3.10/site-packages/sklearn/base.py:439: UserWarning: X does not have valid feature names, but RandomForestRegressor was fitted with feature names\n",
      "  warnings.warn(\n"
     ]
    }
   ],
   "source": [
    "# Giving a test data of a 1st car in the above dataset.\n",
    "Test = [[5.59,27000, 0, 10, 0, 1, 0,1]]\n",
    "# Present_Price, Kms_Driven, Owner, No_of_Years, Fuel_Type_Diesel, Fuel_Type_Petrol, Seller_Type_Individual, Transmission_Manual\n",
    "prediction = linr.predict(Test)\n",
    "prediction1 = rnd.predict(Test)\n",
    "\n",
    "print(f\"The actual cost of car is{df1.iloc[0:1,0:1]}, and predicted value of the same is {prediction} using Linear Regression\")\n",
    "print(f\"The actual cost of car is{df1.iloc[0:1,0:1]}, and predicted value of the same is {prediction1} using Random Forest\")"
   ]
  },
  {
   "cell_type": "markdown",
   "id": "4e81be87",
   "metadata": {
    "papermill": {
     "duration": 0.029594,
     "end_time": "2024-01-28T15:57:19.266294",
     "exception": false,
     "start_time": "2024-01-28T15:57:19.236700",
     "status": "completed"
    },
    "tags": []
   },
   "source": [
    "## END"
   ]
  }
 ],
 "metadata": {
  "kaggle": {
   "accelerator": "none",
   "dataSources": [
    {
     "datasetId": 33080,
     "sourceId": 4852390,
     "sourceType": "datasetVersion"
    }
   ],
   "dockerImageVersionId": 30635,
   "isGpuEnabled": false,
   "isInternetEnabled": true,
   "language": "python",
   "sourceType": "notebook"
  },
  "kernelspec": {
   "display_name": "Python 3",
   "language": "python",
   "name": "python3"
  },
  "language_info": {
   "codemirror_mode": {
    "name": "ipython",
    "version": 3
   },
   "file_extension": ".py",
   "mimetype": "text/x-python",
   "name": "python",
   "nbconvert_exporter": "python",
   "pygments_lexer": "ipython3",
   "version": "3.10.12"
  },
  "papermill": {
   "default_parameters": {},
   "duration": 14.076178,
   "end_time": "2024-01-28T15:57:20.020187",
   "environment_variables": {},
   "exception": null,
   "input_path": "__notebook__.ipynb",
   "output_path": "__notebook__.ipynb",
   "parameters": {},
   "start_time": "2024-01-28T15:57:05.944009",
   "version": "2.4.0"
  }
 },
 "nbformat": 4,
 "nbformat_minor": 5
}
